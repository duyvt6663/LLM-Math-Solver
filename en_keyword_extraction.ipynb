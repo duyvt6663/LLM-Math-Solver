{
 "cells": [
  {
   "cell_type": "code",
   "execution_count": 1,
   "metadata": {},
   "outputs": [],
   "source": [
    "text = \"\"\"Today's promotion is super cool, soft khaki pants\"\"\"\n",
    "text1 = \"\"\"Discount 50% for all items only on Black Friday\"\"\""
   ]
  },
  {
   "cell_type": "markdown",
   "metadata": {},
   "source": [
    "### Spacy noun phrase"
   ]
  },
  {
   "cell_type": "code",
   "execution_count": null,
   "metadata": {},
   "outputs": [],
   "source": [
    "!python -m spacy download en_core_web_sm\n",
    "!python -m spacy download en"
   ]
  },
  {
   "cell_type": "code",
   "execution_count": null,
   "metadata": {},
   "outputs": [],
   "source": [
    "import spacy"
   ]
  },
  {
   "cell_type": "code",
   "execution_count": 7,
   "metadata": {},
   "outputs": [],
   "source": [
    "nlp = spacy.load(\"en_core_web_sm\")\n",
    "text = \"\"\"\n",
    "The data scientist hurriedly wrote some code on their Linux workstation to get everything completed before the deadline. \n",
    "\"\"\""
   ]
  },
  {
   "cell_type": "code",
   "execution_count": 8,
   "metadata": {},
   "outputs": [
    {
     "name": "stdout",
     "output_type": "stream",
     "text": [
      "Noun phrases: ['\\nThe data scientist', 'some code', 'their Linux workstation', 'everything', 'the deadline']\n"
     ]
    }
   ],
   "source": [
    "doc = nlp(text)\n",
    "print(\"Noun phrases:\", [chunk.text for chunk in doc.noun_chunks])"
   ]
  },
  {
   "cell_type": "code",
   "execution_count": 9,
   "metadata": {},
   "outputs": [
    {
     "name": "stdout",
     "output_type": "stream",
     "text": [
      "Noun phrases: ['Discount', 'all items']\n"
     ]
    }
   ],
   "source": [
    "doc = nlp(text1)\n",
    "print(\"Noun phrases:\", [chunk.text for chunk in doc.noun_chunks])"
   ]
  },
  {
   "cell_type": "markdown",
   "metadata": {},
   "source": [
    "## Extract adj"
   ]
  },
  {
   "cell_type": "code",
   "execution_count": 17,
   "metadata": {},
   "outputs": [],
   "source": [
    "text = \"It is a3-layer, waterproof, insulated aluminum car cover\""
   ]
  },
  {
   "cell_type": "code",
   "execution_count": 18,
   "metadata": {},
   "outputs": [],
   "source": [
    "def extract_adj(s):\n",
    "    doc = nlp(s)\n",
    "    return [chunk.text for chunk in doc.noun_chunks if chunk.root.pos_ == \"ADJ\"]"
   ]
  },
  {
   "cell_type": "code",
   "execution_count": 20,
   "metadata": {},
   "outputs": [
    {
     "name": "stdout",
     "output_type": "stream",
     "text": [
      "It         (PRON ) nsubj   \n",
      "is         (AUX  ) ROOT    \n",
      "a3         (NOUN ) compound\n",
      "-          (PUNCT) punct   \n",
      "layer      (NOUN ) attr    \n",
      ",          (PUNCT) punct   \n",
      "waterproof (ADJ  ) conj    \n",
      ",          (PUNCT) punct   \n",
      "insulated  (VERB ) amod    \n",
      "aluminum   (NOUN ) compound\n",
      "car        (NOUN ) compound\n",
      "cover      (NOUN ) attr    \n"
     ]
    }
   ],
   "source": [
    "doc = nlp(text)\n",
    "\n",
    "for token in doc:\n",
    "    print(f\"{token.text:<10} ({token.pos_:<5}) {token.dep_:<8}\")"
   ]
  },
  {
   "cell_type": "code",
   "execution_count": null,
   "metadata": {},
   "outputs": [],
   "source": []
  }
 ],
 "metadata": {
  "kernelspec": {
   "display_name": "peft",
   "language": "python",
   "name": "python3"
  },
  "language_info": {
   "codemirror_mode": {
    "name": "ipython",
    "version": 3
   },
   "file_extension": ".py",
   "mimetype": "text/x-python",
   "name": "python",
   "nbconvert_exporter": "python",
   "pygments_lexer": "ipython3",
   "version": "3.11.4"
  },
  "orig_nbformat": 4
 },
 "nbformat": 4,
 "nbformat_minor": 2
}
