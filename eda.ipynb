{
 "cells": [
  {
   "cell_type": "code",
   "execution_count": 1,
   "metadata": {},
   "outputs": [],
   "source": [
    "import os\n",
    "import json"
   ]
  },
  {
   "cell_type": "code",
   "execution_count": 7,
   "metadata": {},
   "outputs": [
    {
     "name": "stdout",
     "output_type": "stream",
     "text": [
      "There are 189 test samples\n"
     ]
    }
   ],
   "source": [
    "test_json_path = \"/Users/minhnam/Desktop/code/ZaloAI/elementary-math-solving/datasets/public_test/math_test.json\"\n",
    "test_json = json.load(open(test_json_path, \"r\"))\n",
    "test_data = test_json[\"data\"]\n",
    "print(f'There are {len(test_data)} test samples')"
   ]
  },
  {
   "cell_type": "code",
   "execution_count": 9,
   "metadata": {},
   "outputs": [
    {
     "data": {
      "text/plain": [
       "False"
      ]
     },
     "execution_count": 9,
     "metadata": {},
     "output_type": "execute_result"
    }
   ],
   "source": [
    "vi_2_en = {\n",
    "    \"hình tam giác\": \"triangle\",\n",
    "    \"hình vuông\": \"square\",\n",
    "    \"hình chữ nhật\": \"rectangle\",\n",
    "    \"hình tròn\": \"circle\",\n",
    "    \"hình bình hành\": \"parallelogram\",\n",
    "    \"hình thang\": \"trapezoid\",\n",
    "    \"hình lăng trụ\": \"prism\",\n",
    "    \"hình hộp\": \"box\",\n",
    "    \"hình nón\": \"cone\",\n",
    "    \"hình cầu\": \"sphere\",\n",
    "    \"hình trụ\": \"cylinder\",\n",
    "    \"hình chóp\": \"pyramid\",\n",
    "    \"hình elip\": \"ellipse\",\n",
    "    \"hình bầu dục\": \"ellipsoid\",\n",
    "    \"hình thang cân\": \"isosceles trapezoid\",\n",
    "    \"hình thang vuông\": \"right trapezoid\",\n",
    "    \"hình thoi\": \"rhombus\",\n",
    "    \"hình bình hành\": \"parallelogram\",\n",
    "    \"tam giác\": \"triangle\",\n",
    "    \"vuông\": \"square\",\n",
    "    \"giờ\": \"hour\",\n",
    "    \"phút\": \"minute\",\n",
    "    \"giây\": \"second\",\n",
    "    \"mét\": \"meter\",\n",
    "    \"km\": \"kilometer\",\n",
    "    \"hm\": \"hectometer\",\n",
    "    \"dam\": \"decameter\",\n",
    "    \"m\": \"meter\",\n",
    "    \"dm\": \"decimeter\",\n",
    "    \"cm\": \"centimeter\",\n",
    "    \"mm\": \"millimeter\",\n",
    "    \"kg\": \"kilogram\",\n",
    "    \"g\": \"gram\",\n",
    "    \"mg\": \"milligram\",\n",
    "    \"l\": \"liter\",\n",
    "    \"ml\": \"milliliter\",\n",
    "    \"m²\": \"square meter\",\n",
    "    \"m³\": \"cubic meter\",\n",
    "    \"ha\": \"hectare\",\n",
    "    \n",
    "}"
   ]
  },
  {
   "cell_type": "code",
   "execution_count": null,
   "metadata": {},
   "outputs": [],
   "source": []
  }
 ],
 "metadata": {
  "kernelspec": {
   "display_name": "Python 3",
   "language": "python",
   "name": "python3"
  },
  "language_info": {
   "codemirror_mode": {
    "name": "ipython",
    "version": 3
   },
   "file_extension": ".py",
   "mimetype": "text/x-python",
   "name": "python",
   "nbconvert_exporter": "python",
   "pygments_lexer": "ipython3",
   "version": "3.8.17"
  },
  "orig_nbformat": 4
 },
 "nbformat": 4,
 "nbformat_minor": 2
}
