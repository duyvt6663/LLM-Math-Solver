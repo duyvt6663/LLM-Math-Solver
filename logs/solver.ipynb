Question: 8 dm2 24 cm2 = ……… dm2. Số thích hợp điền vào chỗ chấm là:
Options: ['A. 824', 'B. 82,4', 'C. 8,24', 'D. 0,824']
Prediction: C. 8,24
Ground truth: C. 8,24
--------------------------------------------------
Question: 12m2 35dm2 = …… m2. Số thích hợp để điền vào chỗ chấm là:
Options: ['A. 1235', 'B. 12,35', 'C. 123,5', 'D. 1,235']
Prediction: B. 12,35
Ground truth: B. 12,35
--------------------------------------------------
Question: 12m7dm = … dm. Số thích hợp điền vào chỗ chấm là:
Options: ['A. 1 207 dm', 'B. 127 dm', 'C. 1 270 dm', 'D. 1 027 dm']
Prediction: B. 127 dm
Ground truth: B. 127 dm
--------------------------------------------------
Wrong answer: 108
--------------------------------------------------
Question: 15m2 7dm2 = ….. m2. Số thích hợp điền vào chố chấm là:
Options: ['A. 15,07 m2', 'B. 156 m2', 'C. 15,7 m2', 'D. 15,007 m2']
Prediction: A. 15,07 m2
Ground truth: A. 15,07 m2
--------------------------------------------------
Question: 16 giờ 15 phút - 3 giờ 45 phút … 9 giờ 25 phút + 2 giờ 39 phút là
Options: ['A. <', 'B. >', 'C. =']
Prediction: B. >
Ground truth: B. >
--------------------------------------------------
Question: 168 phút = … giờ
Options: ['A. 2,6 giờ', 'B. 2,4 giờ', 'C. 2 giờ', 'D. 2,8 giờ']
Prediction: D. 2,8 giờ
Ground truth: D. 2,8 giờ
--------------------------------------------------
Question: Phép tính 712,54 – 48,9 có kết quả là:
Options: ['A. 70,765', 'B. 223,54', 'C. 663,64', 'D. 707,65']
Prediction: C. 663,64
Ground truth: C. 663,64
--------------------------------------------------
Question: 1m 3 dm = …. cm. Số thích hợp để điền vào chỗ chấm là:
Options: ['A. 13', 'B. 103', 'C. 130', 'D. 31']
Prediction: C. 130
Ground truth: C. 130
--------------------------------------------------
Question: 2 giờ = … phút. Số thích hợp điền vào chỗ chấm là:
Options: ['A. 120 phút', 'B. 110 phút', 'C. 60 phút', 'D. 240 phút']
Prediction: A. 120 phút
Ground truth: A. 120 phút
--------------------------------------------------
Wrong answer: 118
--------------------------------------------------
Question: 2 ngày = … giờ?
Options: ['A. 12', 'B. 24', 'C. 48', 'D. 56']
Prediction: C. 48
Ground truth: C. 48
--------------------------------------------------
Question: 2,05 ha = ...........m2
Options: ['A. 25 000', 'B. 20 050', 'C. 20 500', 'D. 20 005']
Prediction: C. 20 500
Ground truth: C. 20 500
--------------------------------------------------
Question: 2014 dm3 = ...... m3 là:
Options: ['A. 20,14', 'B. 2,014', 'C. 201,4']
Prediction: B. 2,014
Ground truth: C. 201,4
--------------------------------------------------
Wrong answer: 127
--------------------------------------------------
Question: 23 m2 = ……… ha? Số thích hợp điền vào chỗ chấm là:
Options: ['A. 0,23', 'B. 0,023', 'C. 0,0023', 'D. 0,00023']
Prediction: C. 0,0023
Ground truth: C. 0,0023
--------------------------------------------------
Wrong answer: 1290
--------------------------------------------------
Wrong answer: 132
--------------------------------------------------
Question: 29 km 415 m = … km Số thích hợp để viết vào chỗ chấm là:
Options: ['A. 29415', 'B. 29,415', 'C. 294,15', 'D. 2941,5']
Prediction: B. 29,415
Ground truth: B. 29,415
--------------------------------------------------
Question: 2cm2 - 48mm2 = …
Options: ['A. 152', 'B. 152cm', 'C. 185cm2', 'D. 152mm2']
Prediction: A. 152
Ground truth: D. 152mm2
--------------------------------------------------
Wrong answer: 135
--------------------------------------------------
Question: 3,2m3 = ... dm3. Số thích hợp viết vào chỗ chấm là:
Options: ['A. 32000', 'B. 3200', 'C. 320', 'D. 32']
Prediction: B. 3200
Ground truth: B. 3200
--------------------------------------------------
Wrong answer: 141
--------------------------------------------------
Wrong answer: 1457
--------------------------------------------------
Question: Số thập phân thích hợp điền vào chỗ chấm: 5kg 85g = ………. kg là:
Options: ['A. 55,8', 'B. 58,5', 'C. 5,85', 'D. 5,085']
Prediction: D. 5,085
Ground truth: D. 5,085
--------------------------------------------------
Question: Số thích hợp cần điền vào chỗ chấm để 450000cm3 = …….m3 là:
Options: ['A. 45', 'B. 0,045', 'C. 0,45', 'D. 450']
Prediction: C. 0,45
Ground truth: C. 0,45
--------------------------------------------------
Question: 3km 48m = ……..km.
Options: ['A. 3,48', 'B. 3,048', 'C. 348', 'D. 3048']
Prediction: B. 3,048
Ground truth: B. 3,048
--------------------------------------------------
Question: Số thích hợp điền vào chỗ chấm 5kg 30g = …….. kg là:
Options: ['A. 53', 'B. 50,3', 'C. 5,03', 'D. 5,3']
Prediction: C. 5,03
Ground truth: C. 5,03
--------------------------------------------------
Question: 3m 15 cm = ……… cm. Số thích hợp điền vào chỗ chấm là:
Options: ['A. 0,315', 'B. 3,15', 'C. 31,5', 'D. 315']
Prediction: D. 315
Ground truth: D. 315
--------------------------------------------------
Question: Số thích hợp điền vào chỗ chấm để 50g = ………. kg là
Options: ['A. 5000', 'B. 0,05', 'C. 0,5', 'D. 5']
Prediction: B. 0,05
Ground truth: B. 0,05
--------------------------------------------------
Question: Số thích hợp điền vào chỗ chấm: 8ha 25m2 = …….. dam2 là:
Options: ['A. 825', 'B. 800,25', 'C. 8,25', 'D. 80025']
Prediction: B. 800,25
Ground truth: B. 800,25
--------------------------------------------------
Question: 3m2 46dm2 = ……… dm2. Số cần điền vào chỗ chấm là:
Options: ['A. 300 046', 'B. 30 046', 'C. 3 046', 'D. 346']
Prediction: D. 346
Ground truth: D. 346
--------------------------------------------------
Question: 5 tạ 36 kg = …. kg. Số cần điền vào chỗ chấm là:
Options: ['A. 536', 'B. 5036', 'C. 5036', 'D. 5063']
Prediction: A. 536
Ground truth: A. 536
--------------------------------------------------
Question: 54 ha 45m2 = ……… ha. Số thích hợp cần điền vào chỗ chấm là:
Options: ['A. 54,45', 'B. 54,045', 'C. 54,0045', 'D. 54,0450']
Prediction: C. 54,0045
Ground truth: C. 54,0045
--------------------------------------------------
Question: 5kg 23g = ……….kg
Options: ['A. 5,023kg', 'B. 5,23kg', 'C. 5230kg', 'D. 5023kg']
Prediction: A. 5,023kg
Ground truth: A. 5,023kg
--------------------------------------------------
Question: 6 dm2 7 cm2 = …………… cm2. Số cần điền vào chỗ chấm là:
Options: ['A. 607', 'B. 67', 'C. 670', 'D. 6 007']
Prediction: A. 607
Ground truth: A. 607
--------------------------------------------------
Question: 6 là kết quả của phép tính nào dưới đây:
Options: ['A. 12 : 3', 'B. 12 : 6', 'C. 42 : 7', 'D. 40 : 8']
Prediction: C. 42 : 7
Ground truth: C. 42 : 7
--------------------------------------------------
Question: 6,13m3 = …lít:
Options: ['A. 613', 'B. 6130', 'C. 6,13', 'D. 61,3']
Prediction: B. 6130
Ground truth: B. 6130
--------------------------------------------------
Question: 7 dm2 8cm2 = …….. cm2. Số thích hợp điền vào chỗ chấm là:
Options: ['A. 7,08', 'B. 0,87', 'C. 70,8', 'D. 708']
Prediction: D. 708
Ground truth: D. 708
--------------------------------------------------
Question: 7 tạ 50 kg = ….. kg. Số thích hợp cần điền vào chỗ chấm là:
Options: ['A. 750', 'B. 7 500', 'C. 7 050', 'D. 5 070']
Prediction: A. 750
Ground truth: A. 750
--------------------------------------------------
Question: 720 000cm2 = …m2
Options: ['A. 72', 'B. 720', 'C. 7200', 'D. 7,2']
Prediction: A. 72
Ground truth: A. 72
--------------------------------------------------
Question: 7740 : 36 = ?
Options: ['A. 214 ( dư 36 )', 'B. 215', 'C. 2141', 'D. 213 (dư 72)']
Prediction: B. 215
Ground truth: B. 215
--------------------------------------------------
Question: 7cm2 9mm2 = ....... cm2 số thích hợp viết vào chỗ chỗ chấm là:
Options: ['A. 79', 'B. 790', 'C. 7,09', 'D. 7900']
Prediction: C. 7,09
Ground truth: C. 7,09
--------------------------------------------------
Question: 7hm 3dam = ………m. Số thích hợp điền vào chỗ trống là:
Options: ['A. 73m', 'B. 730m', 'C. 703m', 'D. 370m']
Prediction: B. 730m
Ground truth: B. 730m
--------------------------------------------------
Question: 8 dm2 15 cm2 = ….. cm2. Số thích hợp để điền vào chỗ chấm là:
Options: ['A. 815', 'B. 8 015', 'C. 8 150', 'D. 81 500']
Prediction: A. 815
Ground truth: A. 815
--------------------------------------------------
Question: 8 km2 325 dam2 = …… m2. Số thích hợp điền vào chỗ trống là:
Options: ['A. 8032500', 'B. 803250', 'C. 8325000', 'D. 832500']
Prediction: A. 8032500
Ground truth: A. 8032500
--------------------------------------------------
Question: 839 tạ = … tấn là:
Options: ['A. 83,9', 'B. 839', 'C. 8,39', 'D. 0,839']
Prediction: A. 83,9
Ground truth: A. 83,9
--------------------------------------------------
Question: 87 cm2 6 mm2 = … cm2 Số thích hợp để viết vào chỗ chấm là:
Options: ['A. 876', 'B. 87,6', 'C. 87,06', 'D. 87,006 ']
Prediction: C. 87,06
Ground truth: C. 87,06
--------------------------------------------------
Question: 9 tạ 15kg = ... tạ là:
Options: ['A. 915', 'B. 9015', 'C. 91,5', 'D. 9,15']
Prediction: D. 9,15
Ground truth: D. 9,15
--------------------------------------------------
Question: 902 km2 = ............m2. Số thích hợp để viết vào chỗ chấm là:
Options: ['A. 9 002 000 m2', 'B. 92 000 000 m2', 'C. 902 000 000 m2', 'D. 9 020 000 m2']
Prediction: C. 902 000 000 m2
Ground truth: C. 902 000 000 m2
--------------------------------------------------
Question: 9m 2cm = .......cm.
Options: ['A. 92', 'B. 902', 'C. 920', 'D. 9002']
Prediction: B. 902
Ground truth: A. 92
--------------------------------------------------
Wrong answer: 198
--------------------------------------------------
Question: 9m 6dm = … cm:
Options: ['A. 9600cm', 'B. 96cm', 'C. 906cm', 'D. 960cm']
Prediction: D. 960cm
Ground truth: D. 960cm
--------------------------------------------------
Wrong answer: 2
--------------------------------------------------
Wrong answer: 21
--------------------------------------------------
Question: Số thích hợp điền vào chỗ chấm để ‘2,1 ha = ……m2” là:
Options: ['A. 210', 'B. 21', 'C. 2100', 'D. 21 000']
Prediction: D. 21 000
Ground truth: D. 21 000
--------------------------------------------------
Question: Cho 1 + 1 = …. số cần điền vào chỗ chấm là:
Options: ['A. 0', 'B. 2', 'C. 3', 'D. 4']
Prediction: B. 2
Ground truth: B. 2
--------------------------------------------------
Wrong answer: 29
--------------------------------------------------
Question: Cho 11,32 : 0,01 = ……. Số cần điền vào chỗ chấm là:
Options: ['A. 0,1132', 'B. 11,32', 'C. 113,2', 'D. 1132']
Prediction: D. 1132
Ground truth: D. 1132
--------------------------------------------------
Question: Cho 2 + 3 = …. Số cần điền vào chỗ chấm là:
Options: ['A. 4', 'B. 1', 'C. 5', 'D. 0']
Prediction: C. 5
Ground truth: C. 5
--------------------------------------------------
Question: Cho bốn chữ số 0;1;2;3. Tổng của số lớn nhất có bốn chữ số khác nhau và số bé nhất có bốn chữ số khác nhau tạo thành từ các chữ số đã cho có giá trị là:
Options: ['A. 3333', 'B. 4333', 'C. 4233', 'D. 3233']
Prediction: D. 3233
Ground truth: C. 4233
--------------------------------------------------
Wrong answer: 298
--------------------------------------------------
Wrong answer: 305
--------------------------------------------------
No blank in question, try to solve as calculate question
['3', '==', '...', '12.']
Wrong answer: 320
--------------------------------------------------
['18.987', '==', '...', '18', '+', '0.9']
Wrong answer: 335
--------------------------------------------------
Question: Dấu <, >, = thích hợp để điền vào chỗ chấm 124 x 5 … 650 là:
Options: ['A. >', 'B. =', 'C. <']
Prediction: C. <
Ground truth: C. <
--------------------------------------------------
Question: Dấu <, >, = thích hợp để điền vào chỗ chấm 5/4...7/4 là:
Options: ['A. >', 'B. <', 'C. =', 'D. Không có dấu thích hợp']
Prediction: B. <
Ground truth: B. <
--------------------------------------------------
Question: Dấu <, >, = thích hợp để điền vào chỗ chấm 500g + 5g … 505g là:
Options: ['A. <', 'B. =', 'C. >']
Prediction: B. =
Ground truth: B. =
--------------------------------------------------
Question: Dấu thích hợp để điền vào chỗ chấm 17362 x 258 …. 17362 x (382 – 163 + 39) là:
Options: ['A. >', 'B. <', 'C. =']
Prediction: C. =
Ground truth: C. =
--------------------------------------------------
Question: Dấu thích hợp để điền vào chỗ chấm 63958…63859 là
Options: ['A. <', 'B. =', 'C. >']
Prediction: C. >
Ground truth: C. >
--------------------------------------------------
Question: Dấu thích hợp điền vào chỗ chấm sau: 35 145 ….. 23640 + 11505 là:
Options: ['A. >', 'B. <', 'C. =', 'D. +']
Prediction: C. =
Ground truth: C. =
--------------------------------------------------
Wrong answer: 4
--------------------------------------------------
Question: Dãy số được sắp xếp theo thứ tự từ bé đến lớn là:
Options: ['A. 5 138; 5 802; 4 913; 6 027', 'B. 8 120; 8 089; 3 925; 8 758', 'C. 5 812; 5 937; 7 036; 7 311', 'D. 1 234; 1 257; 5 617; 3 870']
Prediction: C. 5 812; 5 937; 7 036; 7 311
Ground truth: C. 5 812; 5 937; 7 036; 7 311
--------------------------------------------------
Question: Dãy tính: 4 + 4 + 4 + 4 + 4 ứng với phép nhân nào?
Options: ['A. 4 x 5', 'B. 4 x 4', 'C. 5 x 4']
Prediction: A. 4 x 5
Ground truth: A. 4 x 5
--------------------------------------------------
No blank in question, try to solve as calculate question
Question: Điền dấu thích hợp: 22 000 …. 220 220
Options: ['A. >', 'B. <', 'C. =', 'D. không thể so sánh']
Prediction: B. <
Ground truth: B. <
--------------------------------------------------
Question: Điền số thích hợp vào chỗ chấm: 0,009 tấn = …kg
Options: ['A. 9', 'B. 90', 'C. 900', 'D. 9000']
Prediction: A. 9
Ground truth: A. 9
--------------------------------------------------
Question: Điền số thích hợp vào chỗ chấm: 3 giờ 10 phút = … phút:
Options: ['A. 150 phút', 'B. 170 phút', 'C. 180 phút', 'D. 190 phút']
Prediction: D. 190 phút
Ground truth: D. 190 phút
--------------------------------------------------
No blank in question, try to solve as calculate question
Wrong answer: 411
--------------------------------------------------
Question: Điền số thích hợp vào chỗ chấm: 68 : 2 < … < 36.
Options: ['A. 39', 'B. 45', 'C. 35', 'D. 50']
Prediction: A. 39
Ground truth: C. 35
--------------------------------------------------
Wrong answer: 412
--------------------------------------------------
No blank in question, try to solve as calculate question
No blank in question, try to solve as calculate question
Question: Điền số thích hợp: 3 tấn × 3 = …. yến
Options: ['A. 9', 'B. 19', 'C. 90', 'D. 900']
Prediction: D. 900
Ground truth: D. 900
--------------------------------------------------
Question: Điền số vào chỗ chấm: 5km 5m = ………. m
Options: ['A. 5500', 'B. 505', 'C. 5005', 'D. 5050']
Prediction: C. 5005
Ground truth: C. 5005
--------------------------------------------------
['4', '==', '...', '127']
Wrong answer: 419
--------------------------------------------------
Question: (580 + 321) + 100 = …….
Options: ['A. 580 + 321 – 100', 'B. (580 – 321) + 100', 'C. 580 + (321 + 100)', 'D. 580 – (321 + 100']
Prediction: C. 580 + (321 + 100)
Ground truth: C. 580 + (321 + 100)
--------------------------------------------------
Question: Đổi 3 phút = …. giây
Options: ['A. 60', 'B. 120', 'C. 180', 'D. 80']
Prediction: C. 180
Ground truth: C. 180
--------------------------------------------------
Question: Đổi 3m2 = …. dm2
Options: ['A. 30', 'B. 300', 'C. 300dm2', 'D. 30dm2']
Prediction: B. 300
Ground truth: C. 300dm2
--------------------------------------------------
Wrong answer: 466
--------------------------------------------------
Question: Đổi: 4 tạ 2kg = ….. kg
Options: ['A. 42', 'B. 42kg', 'C. 402', 'D. 402kg']
Prediction: C. 402
Ground truth: C. 402
--------------------------------------------------
Question: “0,067kg = …..g”. Số thích hợp điền vào chỗ chấm là:
Options: ['A. 67', 'B. 6,7', 'C. 670', 'D. 6700']
Prediction: A. 67
Ground truth: A. 67
--------------------------------------------------
['(', '3', '*', 'quintal', '+', '56', '*', 'kg', ')', '==', '...', '3560']
Question: “0,56 = …..”. Số thích hợp điền vào chỗ chấm là:
Options: ['A. 0,56%', 'B. 5,6%', 'C. 56%', 'D. 560%']
Prediction: A. 0,56%
Ground truth: C. 56%
--------------------------------------------------
Wrong answer: 48
--------------------------------------------------
Question: Giá trị biểu thức ( 95 + 5) – 67 là:
Options: ['A. 36', 'B. 10', 'C. 33', 'D. 43']
Prediction: C. 33
Ground truth: C. 33
--------------------------------------------------
Question: “0,79m3 = ……dm3”. Số thích hợp điền vào chỗ chấm là:
Options: ['A. 79', 'B. 790', 'C. 7900', 'D. 79000']
Prediction: B. 790
Ground truth: B. 790
--------------------------------------------------
Question: Giá trị biểu thức 700 : 5 x 4 là:
Options: ['A. 35', 'B. 560', 'C. 7500', 'D. 150']
Prediction: B. 560
Ground truth: B. 560
--------------------------------------------------
Question: Giá trị biểu thức 72 : 9 + 278 là:
Options: ['A. 248', 'B. 268', 'C. 286', 'D. 256']
Prediction: C. 286
Ground truth: C. 286
--------------------------------------------------
Question: Giá trị của biểu thức (4536 + 73845) : 9 là:
Options: ['A. 9709', 'B. 12741', 'C. 8709', 'D. 8719']
Prediction: C. 8709
Ground truth: C. 8709
--------------------------------------------------
Question: Giá trị của biểu thức (8290 – 7190) : 2 + 193 x 15 là:
Options: ['A. 3333', 'B. 3335', 'C. 3445', 'D. 3555']
Prediction: C. 3445
Ground truth: C. 3445
--------------------------------------------------
Question: Giá trị của biểu thức 1320 + 2112 : 3 là:
Options: ['A. 2024', 'B. 2042', 'C. 2204', 'D. 2124']
Prediction: A. 2024
Ground truth: A. 2024
--------------------------------------------------
Wrong answer: 50
--------------------------------------------------
Question: Giá trị của biểu thức 18 394 + 29 480 + 14 829 là:
Options: ['A. 62 703', 'B. 60 278', 'C. 61 283', 'D. 62 030']
Prediction: A. 62 703
Ground truth: A. 62 703
--------------------------------------------------
Question: Giá trị của biểu thức 18394 + 29480 + 14829 là:
Options: ['A. 62703', 'B. 60278', 'C. 61283', 'D. 62030']
Prediction: A. 62703
Ground truth: A. 62703
--------------------------------------------------
Question: Giá trị của biểu thức 2 413 x 4 – 2 055
Options: ['A. 7 597', 'B. 7 497', 'C. 7 697', 'D. 7 487']
Prediction: A. 7 597
Ground truth: A. 7 597
--------------------------------------------------
Question: Giá trị của biểu thức 2342 + 403 x 6 là:
Options: ['A. 4660', 'B. 4960', 'C. 4860', 'D. 4760']
Prediction: D. 4760
Ground truth: D. 4760
--------------------------------------------------
Wrong answer: 507
--------------------------------------------------
Wrong answer: 508
--------------------------------------------------
Wrong answer: 51
--------------------------------------------------
Question: Giá trị của biểu thức 630 148 000 – 148 000 + 20 000 = … là:
Options: ['A. 630 020 000', 'B. 630 200 000', 'C. 632 000 000', 'D. 630 002 000']
Prediction: A. 630 020 000
Ground truth: A. 630 020 000
--------------------------------------------------
Question: Giá trị của biểu thức 640 : (8 – 3) × 2 là:
Options: ['A. 256', 'B. 154', 'C. 74', 'D. 64']
Prediction: A. 256
Ground truth: A. 256
--------------------------------------------------
Question: Giá trị của biểu thức 88394 - 49350 - 14859 là:
Options: ['A. 24747', 'B. 24185', 'C. 24285', 'D. 24386']
Prediction: B. 24185
Ground truth: B. 24185
--------------------------------------------------
Question: Giá trị của biểu thức: 136,5 – (100 : 2,5) x 0,9 là:
Options: ['A. 100,5', 'B. 110,5', 'C. 100']
Prediction: A. 100,5
Ground truth: A. 100,5
--------------------------------------------------
Question: Giá trị của biểu thức: 45 + 40 : 5 là
Options: ['A. 53', 'B. 17', 'C. 49', 'D. 28']
Prediction: A. 53
Ground truth: A. 53
--------------------------------------------------
Question: “1,75m2 = …….cm2” Số thích hợp viết vào chỗ chấm là:
Options: ['A. 175', 'B. 1750', 'C. 17500', 'D. 17050']
Prediction: C. 17500
Ground truth: C. 17500
--------------------------------------------------
Question: “19 m2 9 dm2 = …… m2”. Số thích hợp để điền vào chỗ chấm là:
Options: ['A. 19,9', 'B. 19,09', 'C. 199', 'D. 1909']
Prediction: B. 19,09
Ground truth: B. 19,09
--------------------------------------------------
Question: “2 giờ = .... phút”. Số thích hợp điền vào chỗ chấm là:
Options: ['A. 60', 'B. 180', 'C. 90', 'D. 120']
Prediction: D. 120
Ground truth: D. 120
--------------------------------------------------
Wrong answer: 56
--------------------------------------------------
Wrong answer: 57
--------------------------------------------------
Wrong answer: 58
--------------------------------------------------
Question: “2800g = …..kg”. Số thích hợp điền vào chỗ chấm là:
Options: ['A. 28', 'B. 2,8', 'C. 0,28', 'D. 280']
Prediction: B. 2,8
Ground truth: B. 2,8
--------------------------------------------------
Question: Hiệu của số lớn nhất có sáu chữ số với số nhỏ nhất có sáu chữ số khác nhau là:
Options: ['A. 897456', 'B. 897645', 'C. 897654', 'D. 897465']
Prediction: A. 897456
Ground truth: C. 897654
--------------------------------------------------
Wrong answer: 599
--------------------------------------------------
Question: “4760cm3 = ……….” 
 Đáp án cần điền vào chỗ chấm là:
Options: ['A. 4,76dm3', 'B. 4,76m3', 'C. 4,76cm3', 'D. 47,6dm3']
Prediction: A. 4,76dm3
Ground truth: A. 4,76dm3
--------------------------------------------------
Wrong answer: 60
--------------------------------------------------
Question: “3 tạ 56kg = …..tạ”. Số thích hợp điền vào chỗ chấm là:
Options: ['A. 3056', 'B. 3,56', 'C. 35,6', 'D. 356']
Prediction: B. 3,56
Ground truth: B. 3,56
--------------------------------------------------
Wrong answer: 62
--------------------------------------------------
Question: “3,2m3 = …….dm3”. Số thích hợp điền vào chỗ chấm là:
Options: ['A. 32000', 'B. 3200', 'C. 320', 'D. 32']
Prediction: B. 3200
Ground truth: B. 3200
--------------------------------------------------
Question: “30m3 50dm3 = …...m3”. Số thích hợp cần điền vào chỗ chấm là:
Options: ['A. 3050', 'B. 30050', 'C. 30,05', 'D. 30,5']
Prediction: C. 30,05
Ground truth: C. 30,05
--------------------------------------------------
Question: “3km 15m = …….km”. Số thích hợp cần điền vào chỗ chấm là:
Options: ['A. 3,15', 'B. 31,5', 'C. 3,015', 'D. 30,15']
Prediction: C. 3,015
Ground truth: C. 3,015
--------------------------------------------------
Wrong answer: 658
--------------------------------------------------
Question: “3m3 76dm3 = ……..m3”. Số thích hợp điền vào chỗ chấm là:
Options: ['A. 3,76', 'B. 3,706', 'C. 37,6', 'D. 3,076']
Prediction: D. 3,076
Ground truth: D. 3,076
--------------------------------------------------
Wrong answer: 661
--------------------------------------------------
Question: Kết quả của phép chia 24854 : 2 là:
Options: ['A. 21427', 'B. 12427', 'C. 12327', 'D. 13427']
Prediction: B. 12427
Ground truth: B. 12427
--------------------------------------------------
Question: Kết quả của phép chia 3,43 : 100 là
Options: ['A. 0,343', 'B. 3,043', 'C. 0,0343', 'D. 3430']
Prediction: C. 0,0343
Ground truth: C. 0,0343
--------------------------------------------------
Question: Kết quả của phép chia 48 : 3 là:
Options: ['A. 13', 'B. 14', 'C. 16', 'D. 15']
Prediction: C. 16
Ground truth: C. 16
--------------------------------------------------
Question: Kết quả của phép chia 52 : 4 là
Options: ['A. 13', 'B. 14', 'C. 15', 'D. 16']
Prediction: A. 13
Ground truth: A. 13
--------------------------------------------------
Question: Kết quả của phép chia 6 546 : 3 là:
Options: ['A. 2 092', 'B. 2 162', 'C. 2 182', 'D. 2 082']
Prediction: C. 2 182
Ground truth: C. 2 182
--------------------------------------------------
Question: Kết quả của phép nhân \left(\frac{2}{5}\right)^4:\left(\frac{1}{5}\right)^4 là
Options: ['A. 8', 'B. 16', 'C. 32', 'D. 64']
Prediction: B. 16
Ground truth: B. 16
--------------------------------------------------
Question: Kết quả của phép tính 10 235 + 20 142 là:
Options: ['A. 30 367', 'B. 30 376', 'C. 30 377', 'D. 30 733']
Prediction: C. 30 377
Ground truth: C. 30 377
--------------------------------------------------
Question: Kết quả của phép tính 127 km + 332 km là:
Options: ['A. 395 km', 'B. 359 km', 'C. 459 km', 'D. 539 km']
Prediction: C. 459 km
Ground truth: B. 359 km
--------------------------------------------------
Wrong answer: 674
--------------------------------------------------
Question: Kết quả của phép tính 138 x 217 + 814 là:
Options: ['A. 30760', 'B. 34560', 'C. 32480', 'D. 31670']
Prediction: A. 30760
Ground truth: A. 30760
--------------------------------------------------
Question: Kết quả của phép tính 14,3 – 23 ${\times}$ 0,1 + 0,0037 ${\times}$ 1000 là:
Options: ['A. 53,6', 'B. 49', 'C. 20,3', 'D. 15,7']
Prediction: D. 15,7
Ground truth: D. 15,7
--------------------------------------------------
Question: Kết quả của phép tính 14hm x 7 là:
Options: ['A. 92hm', 'B. 94hm', 'C. 96hm', 'D. 98hm']
Prediction: D. 98hm
Ground truth: D. 98hm
--------------------------------------------------
Question: Kết quả của phép tính 15kg + 24 yến + 3 tạ theo đơn vị ki-lô-gam là:
Options: ['A. 584kg', 'B. 529kg', 'C. 548kg', 'D. 555kg']
Prediction: D. 555kg
Ground truth: A. 584kg
--------------------------------------------------
Wrong answer: 679
--------------------------------------------------
Question: Kết quả của phép tính 167 + 425 là:
Options: ['A. 592', 'B. 564', 'C. 587', 'D. 534']
Prediction: A. 592
Ground truth: A. 592
--------------------------------------------------
Question: Kết quả của phép tính 2 + 1 + 2 là bao nhiêu ?
Options: ['A. 2', 'B. 3', 'C. 4', 'D. 5']
Prediction: D. 5
Ground truth: D. 5
--------------------------------------------------
Question: Kết quả của phép tính 29402 x 3 là:
Options: ['A. 88206', 'B. 88402', 'C.88266', 'D. 88926']
Prediction: A. 88206
Ground truth: A. 88206
--------------------------------------------------
Question: Kết quả của phép tính 30 cm + 16 cm – 5 cm là:
Options: ['A. 41', 'B. 41 cm', 'C. 46 cm', 'D. 46']
Prediction: B. 41 cm
Ground truth: B. 41 cm
--------------------------------------------------
Question: Kết quả của phép tính 308 : 55 là:
Options: ['A. 5,6', 'B. 6,5', 'C. 0,56', 'D. 6,05']
Prediction: A. 5,6
Ground truth: A. 5,6
--------------------------------------------------
Question: Kết quả của phép tính 32 – 22 là:
Options: ['A. 11', 'B. 10', 'C. 12', 'D. 13']
Prediction: B. 10
Ground truth: B. 10
--------------------------------------------------
Question: Kết quả của phép tính 32 + 6 là:
Options: ['A. 92', 'B. 38', 'C. 34', 'D. 93']
Prediction: B. 38
Ground truth: B. 38
--------------------------------------------------
Question: Kết quả của phép tính 352 x (4 + 6) là:
Options: ['A. 3520', 'B. 3720', 'C. 3840', 'D. 3652']
Prediction: A. 3520
Ground truth: A. 3520
--------------------------------------------------
Question: Kết quả của phép tính 37 x 36 + 28 là:
Options: ['A. 1369', 'B. 1358', 'C. 1360', 'D. 1380']
Prediction: C. 1360
Ground truth: C. 1360
--------------------------------------------------
Question: Kết quả của phép tính 37428 : 3 là:
Options: ['A. 12527', 'B. 12476', 'C.12548', 'D. 13747']
Prediction: B. 12476
Ground truth: B. 12476
--------------------------------------------------
Question: “45dm3 124cm3 = …..dm3” Số thích hợp cần điền vào chỗ chấm là:
Options: ['A. 45,124', 'B. 45124', 'C. 451,24', 'D. 0,45124']
Prediction: A. 45,124
Ground truth: A. 45,124
--------------------------------------------------
Question: Kết quả của phép tính 394 - 128 là:
Options: ['A. 256', 'B. 246', 'C. 266', 'D. 276']
Prediction: C. 266
Ground truth: C. 266
--------------------------------------------------
Question: Kết quả của phép tính 4 + 0 là bao nhiêu ?
Options: ['A. 0', 'B. 3', 'C. 4', 'D. 5']
Prediction: C. 4
Ground truth: C. 4
--------------------------------------------------
Question: Kết quả của phép tính 4,06 : 100 là:
Options: ['A. 0,0406', 'B. 0,00406', 'C. 406', 'D. 40600']
Prediction: A. 0,0406
Ground truth: A. 0,0406
--------------------------------------------------
Question: Kết quả của phép tính 413${\times}$2là:
Options: ['A. 826', 'B. 415', 'C. 862', 'D. 411']
Prediction: A. 826
Ground truth: A. 826
--------------------------------------------------
Question: Kết quả của phép tính 45621 + 30789 là:
Options: ['A. 76410', 'B. 76400', 'C. 75410', 'D. 76310']
Prediction: A. 76410
Ground truth: A. 76410
--------------------------------------------------
Question: Kết quả của phép tính 45g + 36g là:
Options: ['A. 70g', 'B. 81g', 'C. 92g', 'D. 15g']
Prediction: B. 81g
Ground truth: B. 81g
--------------------------------------------------
Question: Kết quả của phép tính 516,04 – 350,28 là:
Options: ['A. 156,67', 'B. 156,76', 'C. 165,67', 'D. 165,76']
Prediction: D. 165,76
Ground truth: D. 165,76
--------------------------------------------------
Question: Kết quả của phép tính 528 km – 147 km là:
Options: ['A. 381 km', 'B. 381', 'C. 481 km', 'D. 481']
Prediction: A. 381 km
Ground truth: A. 381 km
--------------------------------------------------
Question: Kết quả của phép tính 56 : 8 là:
Options: ['A. 5', 'B. 6', 'C. 7', 'D. 8']
Prediction: C. 7
Ground truth: C. 7
--------------------------------------------------
Question: Kết quả của phép tính 627 + 148 là:
Options: ['A. 776', 'B. 775', 'C. 795', 'D. 735']
Prediction: B. 775
Ground truth: B. 775
--------------------------------------------------
Wrong answer: 7
--------------------------------------------------
Question: “4dam2 8m2 = …..dam2.” Số thích hợp điền vào cỗ chấm là:
Options: ['A. 48', 'B. 4,8', 'C. 4,008', 'D. 4,08']
Prediction: D. 4,08
Ground truth: D. 4,08
--------------------------------------------------
Question: Kết quả của phép tính 63 : 7 + 11 là:
Options: ['A. 30', 'B. 20', 'C. 40', 'D. 50']
Prediction: B. 20
Ground truth: B. 20
--------------------------------------------------
Question: Kết quả của phép tính 63 574 – 25 184 là:
Options: ['A. 48 490', 'B. 48 390', 'C. 38 390', 'D. 38 490']
Prediction: C. 38 390
Ground truth: C. 38 390
--------------------------------------------------
Question: Kết quả của phép tính 63,62 + 16,37 là:
Options: ['A. 79,99', 'B. 78,92', 'C. 79,82', 'D. 78,99']
Prediction: A. 79,99
Ground truth: A. 79,99
--------------------------------------------------
Question: Kết quả của phép tính 631 + 142 là:
Options: ['A. 773', 'B. 774', 'C. 764', 'D. 761']
Prediction: A. 773
Ground truth: A. 773
--------------------------------------------------
Question: Kết quả của phép tính 64 929 + 29 394 là:
Options: ['A. 95 323', 'B. 94 323', 'C. 94 618', 'D. 94 189']
Prediction: B. 94 323
Ground truth: B. 94 323
--------------------------------------------------
Question: Kết quả của phép tính 64,9 ${\times}$ 0,01 là:
Options: ['A. 649', 'B. 6,49', 'C. 0,649', 'D. 0,0649']
Prediction: C. 0,649
Ground truth: C. 0,649
--------------------------------------------------
Question: Kết quả của phép tính 64929 + 29394 là:
Options: ['A. 95323', 'B. 94323', 'C. 94618', 'D. 94189']
Prediction: B. 94323
Ground truth: B. 94323
--------------------------------------------------
Question: Kết quả của phép tính 681 - 425 là:
Options: ['A. 256', 'B. 249', 'C. 246', 'D. 266']
Prediction: A. 256
Ground truth: A. 256
--------------------------------------------------
Question: Kết quả của phép tính 7 x 8 là:
Options: ['A. 42', 'B. 56', 'C. 63', 'D. 35']
Prediction: B. 56
Ground truth: B. 56
--------------------------------------------------
Question: Kết quả của phép tính 712,54 – 48,9 là:
Options: ['A. 70,765', 'B. 663,64', 'C. 223,54', 'D. 707,65']
Prediction: B. 663,64
Ground truth: B. 663,64
--------------------------------------------------
Question: “4dam2 8m2 = …..dam2.” Số thích hợp điền vào cỗ chấm là:
Options: ['A. 48', 'B. 4,8', 'C. 4,008', 'D. 4,08']
Prediction: D. 4,08
Ground truth: D. 4,08
--------------------------------------------------
Question: Kết quả của phép tính 72 : 8 + 1 là:
Options: ['A. 9', 'B. 10', 'C. 11', 'D. 12']
Prediction: B. 10
Ground truth: B. 10
--------------------------------------------------
Question: Kết quả của phép tính 72 : 9 + 16 là:
Options: ['A. 24', 'B. 42', 'C. 37', 'D. 40']
Prediction: A. 24
Ground truth: A. 24
--------------------------------------------------
Question: Kết quả của phép tính 72932 - 49204 là:
Options: ['A. 23684', 'B. 23545', 'C. 23859', 'D. 23728']
Prediction: D. 23728
Ground truth: D. 23728
--------------------------------------------------
Question: Kết quả của phép tính 74,059 ${\times}$ 0,001 là:
Options: ['A. 74059', 'B. 0,74059', 'C. 0,074059', 'D. 7405,9']
Prediction: C. 0,074059
Ground truth: C. 0,074059
--------------------------------------------------
Wrong answer: 714
--------------------------------------------------
Question: Kết quả của phép tính 9 836 – 3 219 là:
Options: ['A. 6 627', 'B. 6 617', 'C. 6 517', 'D. 6 527']
Prediction: B. 6 617
Ground truth: B. 6 617
--------------------------------------------------
Wrong answer: 716
--------------------------------------------------
Question: Kết quả của phép tính 9 x 3 + 23 là:
Options: ['A. 50', 'B. 60', 'C. 70', 'D. 80']
Prediction: A. 50
Ground truth: A. 50
--------------------------------------------------
Question: Kết quả của phép tính 9 x 6 bằng:
Options: ['A. 27', 'B. 72', 'C. 63', 'D. 54']
Prediction: D. 54
Ground truth: D. 54
--------------------------------------------------
Question: Kết quả của phép tính 9,03 : 2,1 là
Options: ['A. 2,4', 'B. 3,2', 'C. 3,4', 'D. 4,3']
Prediction: D. 4,3
Ground truth: D. 4,3
--------------------------------------------------
Question: “4m3 45dm3 = ……..m3”. Số thích hợp để điền vào chỗ chấm là:
Options: ['A. 4,45', 'B. 4,450', 'C. 4,405', 'D. 4,045']
Prediction: D. 4,045
Ground truth: D. 4,045
--------------------------------------------------
Wrong answer: 720
--------------------------------------------------
Question: Kết quả của phép tính 90g - 37g là:
Options: ['A. 53g', 'B. 63g', 'C. 80g', 'D. 77g']
Prediction: A. 53g
Ground truth: A. 53g
--------------------------------------------------
Question: Kết quả của phép tính 927 – 524 là:
Options: ['A. 439', 'B.498', 'C. 403', 'D. 462']
Prediction: C. 403
Ground truth: C. 403
--------------------------------------------------
Question: Kết quả của phép tính 9kg + 8kg – 3kg là:
Options: ['A. 14 kg', 'B. 15 kg', 'C. 13 kg', 'D. 16 kg']
Prediction: A. 14 kg
Ground truth: A. 14 kg
--------------------------------------------------
Question: Kết quả của phép tính là: $2 + 1 + 2$ = ……
Options: ['A. 5', 'B. 6', 'C. 4', 'D. 3']
Prediction: A. 5
Ground truth: A. 5
--------------------------------------------------
Wrong answer: 725
--------------------------------------------------
Question: Kết quả của phép tính: 3,2 + 4,65 : 1,5 là:
Options: ['A. 6,783', 'B. 6,3', 'C. 5,233', 'D. 0,969']
Prediction: B. 6,3
Ground truth: B. 6,3
--------------------------------------------------
Question: Kết quả của phép trừ 85371- 9046 là:
Options: ['A. 86335', 'B. 76325', 'C. 76335', 'D. 86325']
Prediction: B. 76325
Ground truth: B. 76325
--------------------------------------------------
Question: “5,4 phút = ……giây”. Số thích hợp cần điền vào chỗ chấm là:
Options: ['A. 54', 'B. 540', 'C. 192', 'D. 324']
Prediction: D. 324
Ground truth: D. 324
--------------------------------------------------
Question: Kết quả đúng của phép tính 12,876 x 10 là:
Options: ['A. 1287,6', 'B. 1,2876', 'C. 128,76', 'D. 12876']
Prediction: C. 128,76
Ground truth: C. 128,76
--------------------------------------------------
Question: Kết quả đúng: 6000 : 2=?
Options: ['A. 3000', 'B. 2000', 'C. 4000', 'D. 3200']
Prediction: A. 3000
Ground truth: A. 3000
--------------------------------------------------
Question: Kết quả phép tính 117 x 5 là:
Options: ['A. 785', 'B. 685', 'C. 625', 'D. 585']
Prediction: D. 585
Ground truth: D. 585
--------------------------------------------------
Question: Kết quả phép tính 137 x 5 là:
Options: ['A. 785', 'B. 685', 'C. 625', 'D. 655']
Prediction: B. 685
Ground truth: B. 685
--------------------------------------------------
Wrong answer: 735
--------------------------------------------------
Question: Kết quả phép tính 26dam – 14dam là:
Options: ['A. 14dam', 'B. 12dam', 'C. 16dam', 'D. 20dam']
Prediction: B. 12dam
Ground truth: B. 12dam
--------------------------------------------------
Question: Kết quả phép tính 28 : 7 là:
Options: ['A. 4', 'B. 5', 'C. 6', 'D. 7']
Prediction: A. 4
Ground truth: A. 4
--------------------------------------------------
Question: Kết quả phép tính 6dm + 14dm là:
Options: ['A. 20dm', 'B. 24dm', 'C. 27dm', 'D. 30dm']
Prediction: A. 20dm
Ground truth: A. 20dm
--------------------------------------------------
Question: “5dm2 3cm2 = ……dm2”. Số thích hợp cần điền vào chỗ chấm là:
Options: ['A. 5,3', 'B. 5,03', 'C. 503', 'D. 53']
Prediction: B. 5,03
Ground truth: B. 5,03
--------------------------------------------------
Question: Kết quả phép tính 8 x 7 là:
Options: ['A. 48', 'B. 64', 'C. 48', 'D. 56']
Prediction: D. 56
Ground truth: D. 56
--------------------------------------------------
Question: Kết quả phép tính 8 x 8 – 24 là:
Options: ['A. 64', 'B. 40', 'C. 50', 'D. 0']
Prediction: B. 40
Ground truth: B. 40
--------------------------------------------------
Question: Kết quả phép tính 86149 + 12735 là:
Options: ['A. 98885', 'B. 98874', 'C. 98884', 'D. 98875']
Prediction: C. 98884
Ground truth: C. 98884
--------------------------------------------------
Question: Kết quả phép tính 91 : 7 là:
Options: ['A. 13', 'B. 14', 'C. 15', 'D. 16']
Prediction: A. 13
Ground truth: B. 14
--------------------------------------------------
Wrong answer: 743
--------------------------------------------------
Question: “5km 706m = …….hm” Số thích hợp điền vào chỗ chấm là:
Options: ['A. 50,706', 'B. 57,06', 'C. 5706', 'D. 50706']
Prediction: B. 57,06
Ground truth: B. 57,06
--------------------------------------------------
Question: Số thích hợp để viết vào chỗ chấm của 1m2 25cm2 = ............cm2 là:
Options: ['A. 125', 'B. 1025', 'C. 12 500', 'D. 10 025']
Prediction: D. 10 025
Ground truth: D. 10 025
--------------------------------------------------
Question: “8 dm2 9 cm2 = …… cm2.” Số thích hợp để điền vào chỗ chấm là:
Options: ['A. 8,9', 'B. 8,09', 'C. 809', 'D. 8009']
Prediction: C. 809
Ground truth: C. 809
--------------------------------------------------
Question: 805 m2 = ... ha 
 Số thích hợp điền vào chỗ trống là:
Options: ['A. 80,5', 'B. 8,05', 'C. 0,805', 'D. 0,0805']
Prediction: D. 0,0805
Ground truth: D. 0,0805
--------------------------------------------------
Question: “8 m 9 cm = …… m”. Số thập phân thích hợp điền vào chỗ chấm là:
Options: ['A. 8,09', 'B. 8,009', 'C. 8,9', 'D. 809']
Prediction: A. 8,09
Ground truth: A. 8,09
--------------------------------------------------
Question: “8 m2 6 dm2 =…… m2.” Số thích hợp điền vào chỗ chấm là:
Options: ['A. 8,6', 'B. 86', 'C. 806', 'D. 8,06']
Prediction: D. 8,06
Ground truth: D. 8,06
--------------------------------------------------
Question: “9ha 7m2 = ………dam2”. Số thích hợp cần điền vào chỗ chấm là:
Options: ['A. 9,7', 'B. 9,07', 'C. 900,07', 'D. 90,07']
Prediction: C. 900,07
Ground truth: D. 90,07
--------------------------------------------------
Wrong answer: 79
--------------------------------------------------
Question: 5m2 6dm2 = … dm2 Số thích hợp để viết vào chỗ chấm là:
Options: ['A. 56', 'B. 560', 'C. 506', 'D. 5600']
Prediction: C. 506
Ground truth: C. 506
--------------------------------------------------
Wrong answer: 82
--------------------------------------------------
Wrong answer: 87
--------------------------------------------------
Question: 66m2 66cm2 = … cm2
 Số thích hợp để viết vào chỗ chấm là:
Options: ['A. 6666', 'B. 666 600', 'C. 660 660', 'D. 660 066']
Prediction: D. 660 066
Ground truth: D. 660 066
--------------------------------------------------
Question: 1 giờ 15 phút = … phút
Options: ['A. 115 phút', 'B. 615 phút', 'C. 65 phút', 'D. 75 phút']
Prediction: D. 75 phút
Ground truth: D. 75 phút
--------------------------------------------------
Question: 1 km = … m. Số thích hợp để điền vào chỗ chấm là:
Options: ['A. 1 000', 'B. 100', 'C. 10', 'D. 1']
Prediction: A. 1 000
Ground truth: A. 1 000
--------------------------------------------------
***Out of 1200 samples***
Successfully attempted: 180 / 1200
Correct: 168
Precision: 93.33 %
Total Accuracy: 14.00 %
