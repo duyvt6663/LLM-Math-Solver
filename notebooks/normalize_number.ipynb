{
 "cells": [
  {
   "cell_type": "code",
   "execution_count": 1,
   "metadata": {},
   "outputs": [],
   "source": [
    "import re\n",
    "import json"
   ]
  },
  {
   "cell_type": "code",
   "execution_count": 2,
   "metadata": {},
   "outputs": [
    {
     "name": "stdout",
     "output_type": "stream",
     "text": [
      "[\n",
      "    \"39,87m^{3} = ………..dm^{3}\",\n",
      "    \"5m^{3} 19dm^{3} = ........m^{3}\",\n",
      "    \"3tấn5kg = …… tấn\",\n",
      "    \"13,8 m^{3} = … dm^{3}\",\n",
      "    \"3m^{3} 76 dm^{3} = ......... m^{3}\",\n",
      "    \"3km 48m = ........km\",\n",
      "    \"55 ha 17 m^{2} = ..........ha\",\n",
      "    \"20 tấn =..........tạ\",\n",
      "    \"2km 257m = ...... km\",\n",
      "    \"3m246cm^{2} = . . . . . . cm^{2}\",\n",
      "    \"4,53 ha = ……m^{2}\",\n",
      "    \"2 dam^{2} 49 m^{2} = .........m^{2}\",\n",
      "    \"3 tấn 15kg = …… tấn \",\n",
      "    \"9m2 8dm2 =……..m2 \",\n",
      "    \"11 tấn + 2 kg = ................... kg\",\n",
      "    \"2 dam^{2} 49 m^{2} = .........m^{2}\",\n",
      "    \"3,754m = ... cm\",\n",
      "    \"8,3ha = ......m^{2}\",\n",
      "    \"35 m^{2} 6 dm^{2} = ...... m^{2}\",\n",
      "    \"55 ha 17 m^{2} = ..........ha\",\n",
      "    \"3m^{3} 5dm^{3} = ............. dm^{3}\",\n",
      "    \"2m^{3} = ……..dm^{3}\",\n",
      "    \"4m^{3} 21dm^{3} = .........................................m^{3}\",\n",
      "    \"17 tấn 16 kg =............. ...kg\",\n",
      "    \"2m^{2} 3cm^{2} = ………….m^{2}\",\n",
      "    \"55 ha 17 m^{2} = .....,.....ha\",\n",
      "    \"4 tấn 562 kg =.........tấn\"\n",
      "]\n"
     ]
    }
   ],
   "source": [
    "all_converting_texts = \"\"\"\n",
    "39,87m^{3} = ………..dm^{3}\n",
    "5m^{3} 19dm^{3} = ........m^{3}\n",
    "3tấn5kg = …… tấn\n",
    "13,8 m^{3} = … dm^{3}\n",
    "3m^{3} 76 dm^{3} = ......... m^{3}\n",
    "3km 48m = ........km\n",
    "55 ha 17 m^{2} = ..........ha\n",
    "20 tấn =..........tạ\n",
    "2km 257m = ...... km\n",
    "3m246cm^{2} = . . . . . . cm^{2}\n",
    "4,53 ha = ……m^{2}\n",
    "2 dam^{2} 49 m^{2} = .........m^{2}\n",
    "3 tấn 15kg = …… tấn \n",
    "9m2 8dm2 =……..m2 \n",
    "11 tấn + 2 kg = ................... kg\n",
    "2 dam^{2} 49 m^{2} = .........m^{2}\n",
    "3,754m = ... cm\n",
    "8,3ha = ......m^{2}\n",
    "35 m^{2} 6 dm^{2} = ...... m^{2}\n",
    "55 ha 17 m^{2} = ..........ha\n",
    "3m^{3} 5dm^{3} = ............. dm^{3}\n",
    "2m^{3} = ……..dm^{3}\n",
    "4m^{3} 21dm^{3} = .........................................m^{3}\n",
    "17 tấn 16 kg =............. ...kg\n",
    "2m^{2} 3cm^{2} = ………….m^{2}\n",
    "55 ha 17 m^{2} = .....,.....ha\n",
    "4 tấn 562 kg =.........tấn\n",
    "\"\"\"\n",
    "\n",
    "all_converting_texts = [s for s in all_converting_texts.split('\\n') if s != '']\n",
    "print(json.dumps(all_converting_texts, indent=4, ensure_ascii=False))"
   ]
  },
  {
   "cell_type": "markdown",
   "metadata": {},
   "source": [
    "## Normalize Vietnamese numbers to Python format"
   ]
  },
  {
   "cell_type": "code",
   "execution_count": 3,
   "metadata": {},
   "outputs": [
    {
     "name": "stdout",
     "output_type": "stream",
     "text": [
      "This is a string with numbers 1.23 and 4567. Also, 8912 and 0.456.\n"
     ]
    },
    {
     "data": {
      "text/plain": [
       "'I pay the house with $12345678.45'"
      ]
     },
     "execution_count": 3,
     "metadata": {},
     "output_type": "execute_result"
    }
   ],
   "source": [
    "def normalize_vietnamese_numbers(input_string):\n",
    "    # Remove Vietnamse dot thousands separator\n",
    "    result = input_string\n",
    "    while True:\n",
    "        s = re.sub(r'(\\d+)\\.(\\d+)', r'\\1\\2', result)\n",
    "        if s == result:\n",
    "            break\n",
    "        result = s\n",
    "    \n",
    "    # Replace floating point commas with temporary text\n",
    "    result = re.sub(r'(\\d+),(\\d+)', r'\\1.\\2', result)\n",
    "    \n",
    "    return result\n",
    "\n",
    "# Example usage:\n",
    "input_string = \"This is a string with numbers 1,23 and 4.567. Also, 8.912 and 0,456.\"\n",
    "normalized_string = normalize_vietnamese_numbers(input_string)\n",
    "print(normalized_string)\n",
    "\n",
    "input_string = \"I pay the house with $1.234.5678,45\"\n",
    "normalize_vietnamese_numbers(input_string)"
   ]
  },
  {
   "cell_type": "code",
   "execution_count": 4,
   "metadata": {},
   "outputs": [
    {
     "data": {
      "text/plain": [
       "12.345678"
      ]
     },
     "execution_count": 4,
     "metadata": {},
     "output_type": "execute_result"
    }
   ],
   "source": [
    "float(\"12.345678\")"
   ]
  },
  {
   "cell_type": "code",
   "execution_count": 5,
   "metadata": {},
   "outputs": [
    {
     "name": "stdout",
     "output_type": "stream",
     "text": [
      "[\n",
      "    \"39.87m^{3} = ………..dm^{3}\",\n",
      "    \"5m^{3} 19dm^{3} = ........m^{3}\",\n",
      "    \"3tấn5kg = …… tấn\",\n",
      "    \"13.8 m^{3} = … dm^{3}\",\n",
      "    \"3m^{3} 76 dm^{3} = ......... m^{3}\",\n",
      "    \"3km 48m = ........km\",\n",
      "    \"55 ha 17 m^{2} = ..........ha\",\n",
      "    \"20 tấn =..........tạ\",\n",
      "    \"2km 257m = ...... km\",\n",
      "    \"3m246cm^{2} = . . . . . . cm^{2}\",\n",
      "    \"4.53 ha = ……m^{2}\",\n",
      "    \"2 dam^{2} 49 m^{2} = .........m^{2}\",\n",
      "    \"3 tấn 15kg = …… tấn \",\n",
      "    \"9m2 8dm2 =……..m2 \",\n",
      "    \"11 tấn + 2 kg = ................... kg\",\n",
      "    \"2 dam^{2} 49 m^{2} = .........m^{2}\",\n",
      "    \"3.754m = ... cm\",\n",
      "    \"8.3ha = ......m^{2}\",\n",
      "    \"35 m^{2} 6 dm^{2} = ...... m^{2}\",\n",
      "    \"55 ha 17 m^{2} = ..........ha\",\n",
      "    \"3m^{3} 5dm^{3} = ............. dm^{3}\",\n",
      "    \"2m^{3} = ……..dm^{3}\",\n",
      "    \"4m^{3} 21dm^{3} = .........................................m^{3}\",\n",
      "    \"17 tấn 16 kg =............. ...kg\",\n",
      "    \"2m^{2} 3cm^{2} = ………….m^{2}\",\n",
      "    \"55 ha 17 m^{2} = .....,.....ha\",\n",
      "    \"4 tấn 562 kg =.........tấn\"\n",
      "]\n"
     ]
    }
   ],
   "source": [
    "all_converting_texts = [normalize_vietnamese_numbers(s) for s in all_converting_texts]\n",
    "print(json.dumps(all_converting_texts, indent=4, ensure_ascii=False))"
   ]
  },
  {
   "cell_type": "markdown",
   "metadata": {},
   "source": [
    "## Replace specidal dots with normal dots"
   ]
  },
  {
   "cell_type": "markdown",
   "metadata": {},
   "source": [
    "def repl"
   ]
  },
  {
   "cell_type": "code",
   "execution_count": 7,
   "metadata": {},
   "outputs": [
    {
     "name": "stdout",
     "output_type": "stream",
     "text": [
      "[\n",
      "    \"39.87m^{3} = <FILL_IN>dm^{3}\",\n",
      "    \"5m^{3} 19dm^{3} = <FILL_IN>m^{3}\",\n",
      "    \"3tấn5kg = <FILL_IN> tấn\",\n",
      "    \"13.8 m^{3} = <FILL_IN> dm^{3}\",\n",
      "    \"3m^{3} 76 dm^{3} = <FILL_IN> m^{3}\",\n",
      "    \"3km 48m = <FILL_IN>km\",\n",
      "    \"55 ha 17 m^{2} = <FILL_IN>ha\",\n",
      "    \"20 tấn =<FILL_IN>tạ\",\n",
      "    \"2km 257m = <FILL_IN> km\",\n",
      "    \"3m246cm^{2} = <FILL_IN> cm^{2}\",\n",
      "    \"4.53 ha = <FILL_IN>m^{2}\",\n",
      "    \"2 dam^{2} 49 m^{2} = <FILL_IN>m^{2}\",\n",
      "    \"3 tấn 15kg = <FILL_IN> tấn \",\n",
      "    \"9m2 8dm2 =<FILL_IN>m2 \",\n",
      "    \"11 tấn + 2 kg = <FILL_IN> kg\",\n",
      "    \"2 dam^{2} 49 m^{2} = <FILL_IN>m^{2}\",\n",
      "    \"3.754m = <FILL_IN> cm\",\n",
      "    \"8.3ha = <FILL_IN>m^{2}\",\n",
      "    \"35 m^{2} 6 dm^{2} = <FILL_IN> m^{2}\",\n",
      "    \"55 ha 17 m^{2} = <FILL_IN>ha\",\n",
      "    \"3m^{3} 5dm^{3} = <FILL_IN> dm^{3}\",\n",
      "    \"2m^{3} = <FILL_IN>dm^{3}\",\n",
      "    \"4m^{3} 21dm^{3} = <FILL_IN>m^{3}\",\n",
      "    \"17 tấn 16 kg =<FILL_IN>kg\",\n",
      "    \"2m^{2} 3cm^{2} = <FILL_IN>m^{2}\",\n",
      "    \"55 ha 17 m^{2} = <FILL_IN>,<FILL_IN>ha\",\n",
      "    \"4 tấn 562 kg =<FILL_IN>tấn\"\n",
      "]\n"
     ]
    }
   ],
   "source": [
    "def normalize_convert_equation(input_string):\n",
    "    result = input_string.replace(\"…\", \"...\")\n",
    "    \n",
    "    result = re.sub(r\"\\.[\\. ]*\\.+\", r\"<FILL_IN>\", result)\n",
    "    \n",
    "    return result\n",
    "\n",
    "all_converting_texts = [normalize_convert_equation(s) for s in all_converting_texts]\n",
    "print(json.dumps(all_converting_texts, indent=4, ensure_ascii=False))"
   ]
  },
  {
   "cell_type": "code",
   "execution_count": null,
   "metadata": {},
   "outputs": [],
   "source": []
  }
 ],
 "metadata": {
  "kernelspec": {
   "display_name": "base",
   "language": "python",
   "name": "python3"
  },
  "language_info": {
   "codemirror_mode": {
    "name": "ipython",
    "version": 3
   },
   "file_extension": ".py",
   "mimetype": "text/x-python",
   "name": "python",
   "nbconvert_exporter": "python",
   "pygments_lexer": "ipython3",
   "version": "3.11.4"
  },
  "orig_nbformat": 4
 },
 "nbformat": 4,
 "nbformat_minor": 2
}
