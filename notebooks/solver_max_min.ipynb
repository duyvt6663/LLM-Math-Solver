{
 "cells": [
  {
   "cell_type": "code",
   "execution_count": 1,
   "metadata": {},
   "outputs": [
    {
     "name": "stdout",
     "output_type": "stream",
     "text": [
      "/home/minhnam/Desktop/code/ZaloAI/elementary-math-solving\n"
     ]
    }
   ],
   "source": [
    "%cd .."
   ]
  },
  {
   "cell_type": "code",
   "execution_count": 2,
   "metadata": {},
   "outputs": [
    {
     "name": "stdout",
     "output_type": "stream",
     "text": [
      "Question: Số lớn nhất trong các số: 5,216; 5,126; 5,621; 5,612 là:\n",
      "Choices: A. 5,612, B. 5,621, C. 5,216, D. 5,126\n",
      "\n",
      "Question: Số lớn nhất trong các số: 0,79; 0,789; 0,709; 0,8 là:\n",
      "Choices: A. 0,79, B. 0,789, C. 0,709, D. 0,8\n",
      "\n",
      "Question: Số lớn nhất trong các số 39,402; 39,204; 40,392; 40,293 là:\n",
      "Choices: A. 40,392, B. 39,204, C. 40,293, D. 39,402\n",
      "\n",
      "Question: Số lớn nhất trong các số 6,97; 7,99; 6,79; 7,9 là:\n",
      "Choices: A. 6,97, B. 7,99, C. 6,79, D. 7,9\n",
      "\n",
      "Question: Số lớn nhất trong các số: 9,925; 9,259; 9,952; 9,95 là:\n",
      "Choices: A. 9,925, B. 9,259, C. 9,952, D. 9,95\n",
      "\n",
      "Question: Số bé nhất trong các số sau là:\n",
      "Choices: A. 9,25, B. 7,54, C. 8,25, D. 7,45\n",
      "\n",
      "Question: Số lớn nhất trong các số 4,23; 4,32; 4,4; 4,321 là:\n",
      "Choices: A. 4,23, B. 4,321, C. 4,32, D. 4,4\n",
      "\n",
      "Question: Số thập phân nhỏ nhất trong các số 50,798; 50,789; 50,987; 50,879 là:\n",
      "Choices: A. 50,879, B. 50,789, C. 50,798, D. 50,987\n",
      "\n"
     ]
    }
   ],
   "source": [
    "import json\n",
    "import os\n",
    "\n",
    "from src.preprocess import get_option_content, normalize_vietnamese_numbers\n",
    "\n",
    "questions_data = [\n",
    "    {\n",
    "        \"question\": \"Số lớn nhất trong các số: 5,216; 5,126; 5,621; 5,612 là:\",\n",
    "        \"choices\": [\"A. 5,612\", \"B. 5,621\", \"C. 5,216\", \"D. 5,126\"]\n",
    "    },\n",
    "    {\n",
    "        \"question\": \"Số lớn nhất trong các số: 0,79; 0,789; 0,709; 0,8 là:\",\n",
    "        \"choices\": [\"A. 0,79\", \"B. 0,789\", \"C. 0,709\", \"D. 0,8\"]\n",
    "    },\n",
    "    {\n",
    "        \"question\": \"Số lớn nhất trong các số 39,402; 39,204; 40,392; 40,293 là:\",\n",
    "        \"choices\": [\"A. 40,392\", \"B. 39,204\", \"C. 40,293\", \"D. 39,402\"]\n",
    "    },\n",
    "    {\n",
    "        \"question\": \"Số lớn nhất trong các số 6,97; 7,99; 6,79; 7,9 là:\",\n",
    "        \"choices\": [\"A. 6,97\", \"B. 7,99\", \"C. 6,79\", \"D. 7,9\"]\n",
    "    },\n",
    "    {\n",
    "        \"question\": \"Số lớn nhất trong các số: 9,925; 9,259; 9,952; 9,95 là:\",\n",
    "        \"choices\": [\"A. 9,925\", \"B. 9,259\", \"C. 9,952\", \"D. 9,95\"]\n",
    "    },\n",
    "    {\n",
    "        \"question\": \"Số bé nhất trong các số sau là:\",\n",
    "        \"choices\": [\"A. 9,25\", \"B. 7,54\", \"C. 8,25\", \"D. 7,45\"]\n",
    "    },\n",
    "    {\n",
    "        \"question\": \"Số lớn nhất trong các số 4,23; 4,32; 4,4; 4,321 là:\",\n",
    "        \"choices\": [\"A. 4,23\", \"B. 4,321\", \"C. 4,32\", \"D. 4,4\"]\n",
    "    },\n",
    "    {\n",
    "        \"question\": \"Số thập phân nhỏ nhất trong các số 50,798; 50,789; 50,987; 50,879 là:\",\n",
    "        \"choices\": [\"A. 50,879\", \"B. 50,789\", \"C. 50,798\", \"D. 50,987\"]\n",
    "    }\n",
    "]\n",
    "\n",
    "# Accessing individual questions and choices\n",
    "for q in questions_data:\n",
    "    print(\"Question:\", q[\"question\"])\n",
    "    print(\"Choices:\", \", \".join(q[\"choices\"]))\n",
    "    print()"
   ]
  },
  {
   "cell_type": "code",
   "execution_count": 3,
   "metadata": {},
   "outputs": [],
   "source": [
    "def is_min_question(sample: dict):\n",
    "    q = sample[\"question\"]\n",
    "    return \"nhỏ nhất\" in q.lower() or \"bé nhất\" in q.lower()\n",
    "\n",
    "def is_max_question(sample):\n",
    "    q = sample[\"question\"]\n",
    "    return \"lớn nhất\" in q.lower() or \"nhiều nhất\" in q.lower() or \"cao nhất\" in q.lower() or \"to nhất\" in q.lower()"
   ]
  },
  {
   "cell_type": "code",
   "execution_count": 4,
   "metadata": {},
   "outputs": [],
   "source": [
    "def solve_min_question(sample, verbose=False):\n",
    "    question = sample[\"question\"]\n",
    "    choices = sample[\"choices\"]\n",
    "    \n",
    "    choices_content = [get_option_content(choice) for choice in choices]\n",
    "    choices_number = [normalize_vietnamese_numbers(choice_content) for choice_content in choices_content]\n",
    "    choices_number = [float(choice_number.strip()) for choice_number in choices_number]\n",
    "    \n",
    "    min_choice_index = choices_number.index(min(choices_number))\n",
    "    if verbose:\n",
    "        print(\"Question:\", question)\n",
    "        print(\"Options:\", choices)\n",
    "        print(\"Result:\", choices[min_choice_index])\n",
    "    return min_choice_index\n",
    "\n",
    "def solve_max_question(sample, verbose=False):\n",
    "    question = sample[\"question\"]\n",
    "    choices = sample[\"choices\"]\n",
    "    \n",
    "    choices_content = [get_option_content(choice) for choice in choices]\n",
    "    choices_number = [normalize_vietnamese_numbers(choice_content) for choice_content in choices_content]\n",
    "    choices_number = [float(choice_number.strip()) for choice_number in choices_number]\n",
    "    \n",
    "    max_choice_index = choices_number.index(max(choices_number))\n",
    "    if verbose:\n",
    "        print(\"Question:\", question)\n",
    "        print(\"Options:\", choices)\n",
    "        print(\"Result:\", choices[max_choice_index])\n",
    "    return max_choice_index"
   ]
  },
  {
   "cell_type": "code",
   "execution_count": 5,
   "metadata": {},
   "outputs": [
    {
     "name": "stdout",
     "output_type": "stream",
     "text": [
      "Question: Số lớn nhất trong các số: 5,216; 5,126; 5,621; 5,612 là:\n",
      "Options: ['A. 5,612', 'B. 5,621', 'C. 5,216', 'D. 5,126']\n",
      "Result: B. 5,621\n",
      "\n",
      "Question: Số lớn nhất trong các số: 0,79; 0,789; 0,709; 0,8 là:\n",
      "Options: ['A. 0,79', 'B. 0,789', 'C. 0,709', 'D. 0,8']\n",
      "Result: D. 0,8\n",
      "\n",
      "Question: Số lớn nhất trong các số 39,402; 39,204; 40,392; 40,293 là:\n",
      "Options: ['A. 40,392', 'B. 39,204', 'C. 40,293', 'D. 39,402']\n",
      "Result: A. 40,392\n",
      "\n",
      "Question: Số lớn nhất trong các số 6,97; 7,99; 6,79; 7,9 là:\n",
      "Options: ['A. 6,97', 'B. 7,99', 'C. 6,79', 'D. 7,9']\n",
      "Result: B. 7,99\n",
      "\n",
      "Question: Số lớn nhất trong các số: 9,925; 9,259; 9,952; 9,95 là:\n",
      "Options: ['A. 9,925', 'B. 9,259', 'C. 9,952', 'D. 9,95']\n",
      "Result: C. 9,952\n",
      "\n",
      "Question: Số bé nhất trong các số sau là:\n",
      "Options: ['A. 9,25', 'B. 7,54', 'C. 8,25', 'D. 7,45']\n",
      "Result: D. 7,45\n",
      "\n",
      "Question: Số lớn nhất trong các số 4,23; 4,32; 4,4; 4,321 là:\n",
      "Options: ['A. 4,23', 'B. 4,321', 'C. 4,32', 'D. 4,4']\n",
      "Result: D. 4,4\n",
      "\n",
      "Question: Số thập phân nhỏ nhất trong các số 50,798; 50,789; 50,987; 50,879 là:\n",
      "Options: ['A. 50,879', 'B. 50,789', 'C. 50,798', 'D. 50,987']\n",
      "Result: B. 50,789\n",
      "\n"
     ]
    }
   ],
   "source": [
    "for sample in questions_data:\n",
    "    if is_min_question(sample):\n",
    "        solve_min_question(sample, verbose=True)\n",
    "        print()\n",
    "    elif is_max_question(sample):\n",
    "        solve_max_question(sample, verbose=True)\n",
    "        print()"
   ]
  }
 ],
 "metadata": {
  "kernelspec": {
   "display_name": "base",
   "language": "python",
   "name": "python3"
  },
  "language_info": {
   "codemirror_mode": {
    "name": "ipython",
    "version": 3
   },
   "file_extension": ".py",
   "mimetype": "text/x-python",
   "name": "python",
   "nbconvert_exporter": "python",
   "pygments_lexer": "ipython3",
   "version": "3.11.4"
  },
  "orig_nbformat": 4
 },
 "nbformat": 4,
 "nbformat_minor": 2
}
