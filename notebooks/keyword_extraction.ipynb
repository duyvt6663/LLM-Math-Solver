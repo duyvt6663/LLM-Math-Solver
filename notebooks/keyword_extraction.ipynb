{
 "cells": [
  {
   "cell_type": "code",
   "execution_count": 50,
   "metadata": {},
   "outputs": [],
   "source": [
    "VIETNAMESE_STOPWORDS = set()\n",
    "with open('vietnamese-stopwords.txt', 'r') as f:\n",
    "    for line in f:\n",
    "        VIETNAMESE_STOPWORDS.add(line.strip())"
   ]
  },
  {
   "cell_type": "markdown",
   "metadata": {},
   "source": [
    "## Spacy"
   ]
  },
  {
   "cell_type": "code",
   "execution_count": 2,
   "metadata": {},
   "outputs": [],
   "source": [
    "# !pip install spacy -q\n",
    "!pip install 'spacy[apple]' -q"
   ]
  },
  {
   "cell_type": "code",
   "execution_count": null,
   "metadata": {},
   "outputs": [],
   "source": [
    "!python -m spacy download xx_ent_wiki_sm\n",
    "!python -m spacy download xx_sent_ud_sm"
   ]
  },
  {
   "cell_type": "code",
   "execution_count": 6,
   "metadata": {},
   "outputs": [
    {
     "name": "stderr",
     "output_type": "stream",
     "text": [
      "/opt/homebrew/Caskroom/miniforge/base/envs/peft/lib/python3.8/site-packages/spacy/util.py:1817: UserWarning: [W124] 0.0.0.0:5000 is already in use, using the nearest available port 5001 as an alternative.\n",
      "  warnings.warn(Warnings.W124.format(host=host, port=start, serve_port=port))\n",
      "/opt/homebrew/Caskroom/miniforge/base/envs/peft/lib/python3.8/site-packages/spacy/displacy/__init__.py:106: UserWarning: [W011] It looks like you're calling displacy.serve from within a Jupyter notebook or a similar environment. This likely means you're already running a local web server, so there's no need to make displaCy start another one. Instead, you should be able to replace displacy.serve with displacy.render to show the visualization.\n",
      "  warnings.warn(Warnings.W011)\n",
      "/opt/homebrew/Caskroom/miniforge/base/envs/peft/lib/python3.8/site-packages/spacy/displacy/__init__.py:141: UserWarning: [W005] Doc object not parsed. This means displaCy won't be able to generate a dependency visualization for it. Make sure the Doc was processed with a model that supports dependency parsing, and not just a language class like `English()`. For more info, see the docs:\n",
      "https://spacy.io/usage/models\n",
      "  warnings.warn(Warnings.W005)\n"
     ]
    },
    {
     "data": {
      "text/html": [
       "<span class=\"tex2jax_ignore\"><!DOCTYPE html>\n",
       "<html lang=\"xx\">\n",
       "    <head>\n",
       "        <title>displaCy</title>\n",
       "    </head>\n",
       "\n",
       "    <body style=\"font-size: 16px; font-family: -apple-system, BlinkMacSystemFont, 'Segoe UI', Helvetica, Arial, sans-serif, 'Apple Color Emoji', 'Segoe UI Emoji', 'Segoe UI Symbol'; padding: 4rem 2rem; direction: ltr\">\n",
       "<figure style=\"margin-bottom: 6rem\">\n",
       "<svg xmlns=\"http://www.w3.org/2000/svg\" xmlns:xlink=\"http://www.w3.org/1999/xlink\" xml:lang=\"xx\" id=\"a6b9cbab3e9a43b5bf4193c8e328814d-0\" class=\"displacy\" width=\"925\" height=\"137.0\" direction=\"ltr\" style=\"max-width: none; height: 137.0px; color: #000000; background: #ffffff; font-family: Arial; direction: ltr\">\n",
       "<text class=\"displacy-token\" fill=\"currentColor\" text-anchor=\"middle\" y=\"47.0\">\n",
       "    <tspan class=\"displacy-word\" fill=\"currentColor\" x=\"50\">Hôm</tspan>\n",
       "    <tspan class=\"displacy-tag\" dy=\"2em\" fill=\"currentColor\" x=\"50\"></tspan>\n",
       "</text>\n",
       "\n",
       "<text class=\"displacy-token\" fill=\"currentColor\" text-anchor=\"middle\" y=\"47.0\">\n",
       "    <tspan class=\"displacy-word\" fill=\"currentColor\" x=\"225\">nay</tspan>\n",
       "    <tspan class=\"displacy-tag\" dy=\"2em\" fill=\"currentColor\" x=\"225\"></tspan>\n",
       "</text>\n",
       "\n",
       "<text class=\"displacy-token\" fill=\"currentColor\" text-anchor=\"middle\" y=\"47.0\">\n",
       "    <tspan class=\"displacy-word\" fill=\"currentColor\" x=\"400\">trời</tspan>\n",
       "    <tspan class=\"displacy-tag\" dy=\"2em\" fill=\"currentColor\" x=\"400\"></tspan>\n",
       "</text>\n",
       "\n",
       "<text class=\"displacy-token\" fill=\"currentColor\" text-anchor=\"middle\" y=\"47.0\">\n",
       "    <tspan class=\"displacy-word\" fill=\"currentColor\" x=\"575\">nắng</tspan>\n",
       "    <tspan class=\"displacy-tag\" dy=\"2em\" fill=\"currentColor\" x=\"575\"></tspan>\n",
       "</text>\n",
       "\n",
       "<text class=\"displacy-token\" fill=\"currentColor\" text-anchor=\"middle\" y=\"47.0\">\n",
       "    <tspan class=\"displacy-word\" fill=\"currentColor\" x=\"750\">to</tspan>\n",
       "    <tspan class=\"displacy-tag\" dy=\"2em\" fill=\"currentColor\" x=\"750\"></tspan>\n",
       "</text>\n",
       "</svg>\n",
       "</figure>\n",
       "</body>\n",
       "</html></span>"
      ],
      "text/plain": [
       "<IPython.core.display.HTML object>"
      ]
     },
     "metadata": {},
     "output_type": "display_data"
    },
    {
     "name": "stdout",
     "output_type": "stream",
     "text": [
      "\n",
      "Using the 'dep' visualizer\n",
      "Serving on http://0.0.0.0:5001 ...\n",
      "\n"
     ]
    },
    {
     "name": "stderr",
     "output_type": "stream",
     "text": [
      "127.0.0.1 - - [07/Nov/2023 18:09:23] \"GET / HTTP/1.1\" 200 1892\n",
      "127.0.0.1 - - [07/Nov/2023 18:09:23] \"GET /favicon.ico HTTP/1.1\" 200 1892\n",
      "127.0.0.1 - - [07/Nov/2023 18:09:23] \"GET /apple-touch-icon-precomposed.png HTTP/1.1\" 200 1892\n",
      "127.0.0.1 - - [07/Nov/2023 18:09:23] \"GET /apple-touch-icon.png HTTP/1.1\" 200 1892\n"
     ]
    },
    {
     "name": "stdout",
     "output_type": "stream",
     "text": [
      "Shutting down server on port 5001.\n"
     ]
    }
   ],
   "source": [
    "import spacy\n",
    "from spacy import displacy\n",
    "\n",
    "nlp = spacy.load(\"xx_sent_ud_sm\")\n",
    "doc = nlp(\"Hôm nay trời nắng to\")\n",
    "displacy.serve(doc, style=\"dep\", auto_select_port=True)"
   ]
  },
  {
   "cell_type": "code",
   "execution_count": 13,
   "metadata": {},
   "outputs": [
    {
     "data": {
      "text/plain": [
       "Anh ta thích ăn cơm ở nhà hàng Việt Nam."
      ]
     },
     "execution_count": 13,
     "metadata": {},
     "output_type": "execute_result"
    }
   ],
   "source": [
    "import spacy\n",
    "\n",
    "# Load English tokenizer, tagger, parser and NER\n",
    "nlp = spacy.load(\"xx_ent_wiki_sm\")\n",
    "\n",
    "text = (\"Anh ta thích ăn cơm ở nhà hàng Việt Nam.\")\n",
    "doc = nlp(text)\n",
    "doc"
   ]
  },
  {
   "cell_type": "code",
   "execution_count": 21,
   "metadata": {},
   "outputs": [
    {
     "name": "stderr",
     "output_type": "stream",
     "text": [
      "/var/folders/yx/jc_qhjpj4h5br7vh8nflwjsm0000gn/T/ipykernel_97988/463249936.py:1: DeprecationWarning: [W107] The property `Doc.is_sentenced` is deprecated. Use `Doc.has_annotation(\"SENT_START\")` instead.\n",
      "  doc.is_sentenced\n"
     ]
    },
    {
     "data": {
      "text/plain": [
       "False"
      ]
     },
     "execution_count": 21,
     "metadata": {},
     "output_type": "execute_result"
    }
   ],
   "source": [
    "doc.is_sentenced"
   ]
  },
  {
   "cell_type": "code",
   "execution_count": 26,
   "metadata": {},
   "outputs": [
    {
     "ename": "TypeError",
     "evalue": "'dict' object is not callable",
     "output_type": "error",
     "traceback": [
      "\u001b[0;31m---------------------------------------------------------------------------\u001b[0m",
      "\u001b[0;31mTypeError\u001b[0m                                 Traceback (most recent call last)",
      "Cell \u001b[0;32mIn[26], line 1\u001b[0m\n\u001b[0;32m----> 1\u001b[0m doc\u001b[39m.\u001b[39;49m_\u001b[39m.\u001b[39;49mspan_extensions()\n",
      "\u001b[0;31mTypeError\u001b[0m: 'dict' object is not callable"
     ]
    }
   ],
   "source": []
  },
  {
   "cell_type": "markdown",
   "metadata": {},
   "source": [
    "## Yake"
   ]
  },
  {
   "cell_type": "code",
   "execution_count": 27,
   "metadata": {},
   "outputs": [],
   "source": [
    "!pip install yake -q"
   ]
  },
  {
   "cell_type": "code",
   "execution_count": 34,
   "metadata": {},
   "outputs": [
    {
     "data": {
      "text/plain": [
       "[('nay', 0.29736558256021506),\n",
       " ('khuyến', 0.29736558256021506),\n",
       " ('mãi', 0.29736558256021506),\n",
       " ('quần', 0.29736558256021506),\n",
       " ('kaki', 0.29736558256021506),\n",
       " ('hôm', 0.15831692877998726),\n",
       " ('ngầu', 0.15831692877998726),\n",
       " ('nay khuyến', 0.09700399286574239),\n",
       " ('khuyến mãi', 0.09700399286574239),\n",
       " ('mãi quần', 0.09700399286574239),\n",
       " ('quần kaki', 0.09700399286574239),\n",
       " ('kaki mềm', 0.09700399286574239),\n",
       " ('mềm êm siêu', 0.09700399286574239),\n",
       " ('hôm nay', 0.04940384002065631),\n",
       " ('siêu ngầu', 0.04940384002065631),\n",
       " ('nay khuyến mãi', 0.03339840940482845),\n",
       " ('khuyến mãi quần', 0.03339840940482845),\n",
       " ('mãi quần kaki', 0.03339840940482845),\n",
       " ('quần kaki mềm', 0.03339840940482845),\n",
       " ('hôm nay khuyến', 0.01655915082773619)]"
      ]
     },
     "execution_count": 34,
     "metadata": {},
     "output_type": "execute_result"
    }
   ],
   "source": [
    "import yake\n",
    "\n",
    "doc = \"hôm nay khuyến mãi quần kaki mềm êm siêu ngầu\"\n",
    "kw_extractor = yake.KeywordExtractor()\n",
    "keywords = kw_extractor.extract_keywords(doc)\n",
    "sorted(keywords, key=lambda x: x[1], reverse=True)"
   ]
  },
  {
   "cell_type": "markdown",
   "metadata": {},
   "source": [
    "## NLTK"
   ]
  },
  {
   "cell_type": "code",
   "execution_count": 37,
   "metadata": {},
   "outputs": [],
   "source": [
    "!pip install rake-nltk -q"
   ]
  },
  {
   "cell_type": "code",
   "execution_count": 38,
   "metadata": {},
   "outputs": [],
   "source": [
    "from rake_nltk import Rake\n",
    "import nltk"
   ]
  },
  {
   "cell_type": "code",
   "execution_count": 42,
   "metadata": {},
   "outputs": [
    {
     "name": "stdout",
     "output_type": "stream",
     "text": [
      "['hôm nay']\n"
     ]
    }
   ],
   "source": [
    "r = Rake()\n",
    "my_text = \"hôm nay khuyến mãi quần kaki mềm êm siêu ngầu\"\n",
    "r.extract_keywords_from_text(my_text)\n",
    "\n",
    "keywordList = []\n",
    "rankedList = r.get_ranked_phrases_with_scores()\n",
    "for keyword in rankedList:\n",
    "    keyword_updated = keyword[1].split()\n",
    "    keyword_updated_string = \" \".join(keyword_updated[:2])\n",
    "    keywordList.append(keyword_updated_string)"
   ]
  },
  {
   "cell_type": "markdown",
   "metadata": {},
   "source": [
    "## Pyvi"
   ]
  },
  {
   "cell_type": "code",
   "execution_count": 44,
   "metadata": {},
   "outputs": [],
   "source": [
    "!pip install pyvi -q"
   ]
  },
  {
   "cell_type": "code",
   "execution_count": 46,
   "metadata": {},
   "outputs": [
    {
     "name": "stdout",
     "output_type": "stream",
     "text": [
      "Trường đại_học bách_khoa hà_nội\n",
      "(['hôm_nay', 'khuyến_mãi', 'quần', 'kaki', 'mềm', 'êm', 'siêu', 'ngầu'], ['N', 'V', 'N', 'N', 'A', 'N', 'S', 'N'])\n"
     ]
    },
    {
     "data": {
      "text/plain": [
       "'Trường Đại học Bách Khoa hà nội'"
      ]
     },
     "execution_count": 46,
     "metadata": {},
     "output_type": "execute_result"
    }
   ],
   "source": [
    "from pyvi import ViTokenizer, ViPosTagger\n",
    "\n",
    "print(ViTokenizer.tokenize(u\"Trường đại học bách khoa hà nội\"))\n",
    "\n",
    "print(ViPosTagger.postagging(ViTokenizer.tokenize(u\"hôm nay khuyến mãi quần kaki mềm êm siêu ngầu\")))\n"
   ]
  },
  {
   "cell_type": "markdown",
   "metadata": {},
   "source": [
    "## Underthesea"
   ]
  },
  {
   "cell_type": "code",
   "execution_count": 53,
   "metadata": {},
   "outputs": [
    {
     "name": "stdout",
     "output_type": "stream",
     "text": [
      "\u001b[31mERROR: Exception:\n",
      "Traceback (most recent call last):\n",
      "  File \"/opt/homebrew/Caskroom/miniforge/base/envs/peft/lib/python3.8/site-packages/pip/_vendor/urllib3/response.py\", line 438, in _error_catcher\n",
      "    yield\n",
      "  File \"/opt/homebrew/Caskroom/miniforge/base/envs/peft/lib/python3.8/site-packages/pip/_vendor/urllib3/response.py\", line 561, in read\n",
      "    data = self._fp_read(amt) if not fp_closed else b\"\"\n",
      "  File \"/opt/homebrew/Caskroom/miniforge/base/envs/peft/lib/python3.8/site-packages/pip/_vendor/urllib3/response.py\", line 527, in _fp_read\n",
      "    return self._fp.read(amt) if amt is not None else self._fp.read()\n",
      "  File \"/opt/homebrew/Caskroom/miniforge/base/envs/peft/lib/python3.8/site-packages/pip/_vendor/cachecontrol/filewrapper.py\", line 90, in read\n",
      "    data = self.__fp.read(amt)\n",
      "  File \"/opt/homebrew/Caskroom/miniforge/base/envs/peft/lib/python3.8/http/client.py\", line 459, in read\n",
      "    n = self.readinto(b)\n",
      "  File \"/opt/homebrew/Caskroom/miniforge/base/envs/peft/lib/python3.8/http/client.py\", line 503, in readinto\n",
      "    n = self.fp.readinto(b)\n",
      "  File \"/opt/homebrew/Caskroom/miniforge/base/envs/peft/lib/python3.8/socket.py\", line 669, in readinto\n",
      "    return self._sock.recv_into(b)\n",
      "  File \"/opt/homebrew/Caskroom/miniforge/base/envs/peft/lib/python3.8/ssl.py\", line 1241, in recv_into\n",
      "    return self.read(nbytes, buffer)\n",
      "  File \"/opt/homebrew/Caskroom/miniforge/base/envs/peft/lib/python3.8/ssl.py\", line 1099, in read\n",
      "    return self._sslobj.read(len, buffer)\n",
      "socket.timeout: The read operation timed out\n",
      "\n",
      "During handling of the above exception, another exception occurred:\n",
      "\n",
      "Traceback (most recent call last):\n",
      "  File \"/opt/homebrew/Caskroom/miniforge/base/envs/peft/lib/python3.8/site-packages/pip/_internal/cli/base_command.py\", line 180, in exc_logging_wrapper\n",
      "    status = run_func(*args)\n",
      "  File \"/opt/homebrew/Caskroom/miniforge/base/envs/peft/lib/python3.8/site-packages/pip/_internal/cli/req_command.py\", line 248, in wrapper\n",
      "    return func(self, options, args)\n",
      "  File \"/opt/homebrew/Caskroom/miniforge/base/envs/peft/lib/python3.8/site-packages/pip/_internal/commands/install.py\", line 377, in run\n",
      "    requirement_set = resolver.resolve(\n",
      "  File \"/opt/homebrew/Caskroom/miniforge/base/envs/peft/lib/python3.8/site-packages/pip/_internal/resolution/resolvelib/resolver.py\", line 92, in resolve\n",
      "    result = self._result = resolver.resolve(\n",
      "  File \"/opt/homebrew/Caskroom/miniforge/base/envs/peft/lib/python3.8/site-packages/pip/_vendor/resolvelib/resolvers.py\", line 546, in resolve\n",
      "    state = resolution.resolve(requirements, max_rounds=max_rounds)\n",
      "  File \"/opt/homebrew/Caskroom/miniforge/base/envs/peft/lib/python3.8/site-packages/pip/_vendor/resolvelib/resolvers.py\", line 427, in resolve\n",
      "    failure_causes = self._attempt_to_pin_criterion(name)\n",
      "  File \"/opt/homebrew/Caskroom/miniforge/base/envs/peft/lib/python3.8/site-packages/pip/_vendor/resolvelib/resolvers.py\", line 239, in _attempt_to_pin_criterion\n",
      "    criteria = self._get_updated_criteria(candidate)\n",
      "  File \"/opt/homebrew/Caskroom/miniforge/base/envs/peft/lib/python3.8/site-packages/pip/_vendor/resolvelib/resolvers.py\", line 230, in _get_updated_criteria\n",
      "    self._add_to_criteria(criteria, requirement, parent=candidate)\n",
      "  File \"/opt/homebrew/Caskroom/miniforge/base/envs/peft/lib/python3.8/site-packages/pip/_vendor/resolvelib/resolvers.py\", line 173, in _add_to_criteria\n",
      "    if not criterion.candidates:\n",
      "  File \"/opt/homebrew/Caskroom/miniforge/base/envs/peft/lib/python3.8/site-packages/pip/_vendor/resolvelib/structs.py\", line 156, in __bool__\n",
      "    return bool(self._sequence)\n",
      "  File \"/opt/homebrew/Caskroom/miniforge/base/envs/peft/lib/python3.8/site-packages/pip/_internal/resolution/resolvelib/found_candidates.py\", line 155, in __bool__\n",
      "    return any(self)\n",
      "  File \"/opt/homebrew/Caskroom/miniforge/base/envs/peft/lib/python3.8/site-packages/pip/_internal/resolution/resolvelib/found_candidates.py\", line 143, in <genexpr>\n",
      "    return (c for c in iterator if id(c) not in self._incompatible_ids)\n",
      "  File \"/opt/homebrew/Caskroom/miniforge/base/envs/peft/lib/python3.8/site-packages/pip/_internal/resolution/resolvelib/found_candidates.py\", line 47, in _iter_built\n",
      "    candidate = func()\n",
      "  File \"/opt/homebrew/Caskroom/miniforge/base/envs/peft/lib/python3.8/site-packages/pip/_internal/resolution/resolvelib/factory.py\", line 206, in _make_candidate_from_link\n",
      "    self._link_candidate_cache[link] = LinkCandidate(\n",
      "  File \"/opt/homebrew/Caskroom/miniforge/base/envs/peft/lib/python3.8/site-packages/pip/_internal/resolution/resolvelib/candidates.py\", line 293, in __init__\n",
      "    super().__init__(\n",
      "  File \"/opt/homebrew/Caskroom/miniforge/base/envs/peft/lib/python3.8/site-packages/pip/_internal/resolution/resolvelib/candidates.py\", line 156, in __init__\n",
      "    self.dist = self._prepare()\n",
      "  File \"/opt/homebrew/Caskroom/miniforge/base/envs/peft/lib/python3.8/site-packages/pip/_internal/resolution/resolvelib/candidates.py\", line 225, in _prepare\n",
      "    dist = self._prepare_distribution()\n",
      "  File \"/opt/homebrew/Caskroom/miniforge/base/envs/peft/lib/python3.8/site-packages/pip/_internal/resolution/resolvelib/candidates.py\", line 304, in _prepare_distribution\n",
      "    return preparer.prepare_linked_requirement(self._ireq, parallel_builds=True)\n",
      "  File \"/opt/homebrew/Caskroom/miniforge/base/envs/peft/lib/python3.8/site-packages/pip/_internal/operations/prepare.py\", line 529, in prepare_linked_requirement\n",
      "    return self._prepare_linked_requirement(req, parallel_builds)\n",
      "  File \"/opt/homebrew/Caskroom/miniforge/base/envs/peft/lib/python3.8/site-packages/pip/_internal/operations/prepare.py\", line 600, in _prepare_linked_requirement\n",
      "    local_file = unpack_url(\n",
      "  File \"/opt/homebrew/Caskroom/miniforge/base/envs/peft/lib/python3.8/site-packages/pip/_internal/operations/prepare.py\", line 166, in unpack_url\n",
      "    file = get_http_url(\n",
      "  File \"/opt/homebrew/Caskroom/miniforge/base/envs/peft/lib/python3.8/site-packages/pip/_internal/operations/prepare.py\", line 107, in get_http_url\n",
      "    from_path, content_type = download(link, temp_dir.path)\n",
      "  File \"/opt/homebrew/Caskroom/miniforge/base/envs/peft/lib/python3.8/site-packages/pip/_internal/network/download.py\", line 147, in __call__\n",
      "    for chunk in chunks:\n",
      "  File \"/opt/homebrew/Caskroom/miniforge/base/envs/peft/lib/python3.8/site-packages/pip/_internal/network/utils.py\", line 63, in response_chunks\n",
      "    for chunk in response.raw.stream(\n",
      "  File \"/opt/homebrew/Caskroom/miniforge/base/envs/peft/lib/python3.8/site-packages/pip/_vendor/urllib3/response.py\", line 622, in stream\n",
      "    data = self.read(amt=amt, decode_content=decode_content)\n",
      "  File \"/opt/homebrew/Caskroom/miniforge/base/envs/peft/lib/python3.8/site-packages/pip/_vendor/urllib3/response.py\", line 587, in read\n",
      "    raise IncompleteRead(self._fp_bytes_read, self.length_remaining)\n",
      "  File \"/opt/homebrew/Caskroom/miniforge/base/envs/peft/lib/python3.8/contextlib.py\", line 131, in __exit__\n",
      "    self.gen.throw(type, value, traceback)\n",
      "  File \"/opt/homebrew/Caskroom/miniforge/base/envs/peft/lib/python3.8/site-packages/pip/_vendor/urllib3/response.py\", line 443, in _error_catcher\n",
      "    raise ReadTimeoutError(self._pool, None, \"Read timed out.\")\n",
      "pip._vendor.urllib3.exceptions.ReadTimeoutError: HTTPSConnectionPool(host='files.pythonhosted.org', port=443): Read timed out.\u001b[0m\u001b[31m\n",
      "\u001b[0m"
     ]
    }
   ],
   "source": [
    "!pip install \"underthesea[deep]\" -q"
   ]
  },
  {
   "cell_type": "code",
   "execution_count": 47,
   "metadata": {},
   "outputs": [
    {
     "data": {
      "text/plain": [
       "[('hôm nay', 'N'),\n",
       " ('khuyến mãi', 'V'),\n",
       " ('quần kaki', 'N'),\n",
       " ('mềm', 'A'),\n",
       " ('êm siêu', 'N'),\n",
       " ('ngầu', 'M')]"
      ]
     },
     "execution_count": 47,
     "metadata": {},
     "output_type": "execute_result"
    }
   ],
   "source": [
    "from underthesea import pos_tag\n",
    "\n",
    "text = \"hôm nay khuyến mãi quần kaki mềm êm siêu ngầu\"\n",
    "pos_tag(text)"
   ]
  },
  {
   "cell_type": "code",
   "execution_count": 48,
   "metadata": {},
   "outputs": [
    {
     "data": {
      "text/plain": [
       "[('hôm nay', 'N', 'B-NP'),\n",
       " ('khuyến mãi', 'V', 'B-VP'),\n",
       " ('quần kaki', 'N', 'B-NP'),\n",
       " ('mềm', 'A', 'B-AP'),\n",
       " ('êm siêu', 'N', 'B-NP'),\n",
       " ('ngầu', 'M', 'B-NP')]"
      ]
     },
     "execution_count": 48,
     "metadata": {},
     "output_type": "execute_result"
    }
   ],
   "source": [
    "from underthesea import chunk\n",
    "\n",
    "text = \"hôm nay khuyến mãi quần kaki mềm êm siêu ngầu\"\n",
    "chunk(text)"
   ]
  },
  {
   "cell_type": "code",
   "execution_count": 51,
   "metadata": {},
   "outputs": [
    {
     "name": "stdout",
     "output_type": "stream",
     "text": [
      "hôm nay N B-NP\n",
      "khuyến mãi V B-VP\n",
      "quần kaki N B-NP\n",
      "mềm A B-AP\n",
      "êm siêu N B-NP\n",
      "ngầu M B-NP\n"
     ]
    }
   ],
   "source": [
    "for (w, t, c) in chunk(text):\n",
    "    if w.lower() in VIETNAMESE_STOPWORDS:\n",
    "        continue\n",
    "    print(w, t, c)"
   ]
  },
  {
   "cell_type": "code",
   "execution_count": null,
   "metadata": {},
   "outputs": [],
   "source": [
    "from underthesea import dependency_parse\n",
    "\n",
    "text = \"hôm nay khuyến mãi quần kaki mềm êm siêu ngầu\"\n",
    "dependency_parse(text)"
   ]
  },
  {
   "cell_type": "code",
   "execution_count": null,
   "metadata": {},
   "outputs": [],
   "source": [
    "import spacy\n",
    "from nltk import Tree\n",
    "en_nlp = spacy.load('en')\n",
    "\n",
    "doc = en_nlp(\"John saw a flashy hat at the store\")\n",
    "\n",
    "def to_nltk_tree(node):\n",
    "    if node.n_lefts + node.n_rights > 0:\n",
    "        return Tree(node.orth_, [to_nltk_tree(child) for child in node.children])\n",
    "    else:\n",
    "        return node.orth_\n",
    "\n",
    "\n",
    "[to_nltk_tree(sent.root).pretty_print() for sent in doc.sents]"
   ]
  },
  {
   "cell_type": "markdown",
   "metadata": {},
   "source": [
    "## Trùm cuối\n",
    "\n",
    "Mạnh như hổ: https://github.com/vncorenlp/VnCoreNLP\n",
    "\n",
    "**Prerequisities: Java 1.8+**"
   ]
  },
  {
   "cell_type": "code",
   "execution_count": 59,
   "metadata": {},
   "outputs": [
    {
     "name": "stdout",
     "output_type": "stream",
     "text": [
      "Collecting py_vncorenlp\n",
      "  Downloading py_vncorenlp-0.1.4.tar.gz (3.9 kB)\n",
      "  Preparing metadata (setup.py) ... \u001b[?25ldone\n",
      "\u001b[?25hCollecting pyjnius (from py_vncorenlp)\n",
      "  Obtaining dependency information for pyjnius from https://files.pythonhosted.org/packages/8c/02/c58a327382cf6cfd3bedc25ef07dd17d62a6561b445a12d930d25f5d0edd/pyjnius-1.6.1-cp38-cp38-macosx_10_9_universal2.whl.metadata\n",
      "  Downloading pyjnius-1.6.1-cp38-cp38-macosx_10_9_universal2.whl.metadata (10 kB)\n",
      "Downloading pyjnius-1.6.1-cp38-cp38-macosx_10_9_universal2.whl (509 kB)\n",
      "\u001b[2K   \u001b[90m━━━━━━━━━━━━━━━━━━━━━━━━━━━━━━━━━━━━━━━━\u001b[0m \u001b[32m509.3/509.3 kB\u001b[0m \u001b[31m4.6 MB/s\u001b[0m eta \u001b[36m0:00:00\u001b[0ma \u001b[36m0:00:01\u001b[0m\n",
      "\u001b[?25hBuilding wheels for collected packages: py_vncorenlp\n",
      "  Building wheel for py_vncorenlp (setup.py) ... \u001b[?25ldone\n",
      "\u001b[?25h  Created wheel for py_vncorenlp: filename=py_vncorenlp-0.1.4-py3-none-any.whl size=4305 sha256=afa30aae0f8370d6860e3f9638e30b8e5c759c753bdb4e29b301416f042c6777\n",
      "  Stored in directory: /Users/minhnam/Library/Caches/pip/wheels/d1/cb/75/70b22493e7a801929549256780fa21aaa74110f0c601db5d29\n",
      "Successfully built py_vncorenlp\n",
      "Installing collected packages: pyjnius, py_vncorenlp\n",
      "Successfully installed py_vncorenlp-0.1.4 pyjnius-1.6.1\n"
     ]
    }
   ],
   "source": [
    "!pip install py_vncorenlp"
   ]
  },
  {
   "cell_type": "code",
   "execution_count": null,
   "metadata": {},
   "outputs": [],
   "source": [
    "import py_vncorenlp\n",
    "\n",
    "save_dir = \"...\" # MUST BE ABSOLUTE PATH\n",
    "py_vncorenlp.download_model(save_dir=save_dir)"
   ]
  },
  {
   "cell_type": "code",
   "execution_count": 1,
   "metadata": {},
   "outputs": [
    {
     "name": "stdout",
     "output_type": "stream",
     "text": [
      "2023-11-07 20:42:43 INFO  DependencyParser:32 - Loading Dependency Parsing model\n",
      "2023-11-07 20:42:51 INFO  PosTagger:23 - Loading POS Tagging model\n",
      "2023-11-07 20:42:54 INFO  WordSegmenter:24 - Loading Word Segmentation model\n"
     ]
    }
   ],
   "source": [
    "import py_vncorenlp\n",
    "\n",
    "parser = py_vncorenlp.VnCoreNLP(\n",
    "    annotators=[\"parse\", \"pos\"],\n",
    "    save_dir=save_dir,\n",
    ")"
   ]
  },
  {
   "cell_type": "code",
   "execution_count": 4,
   "metadata": {},
   "outputs": [
    {
     "name": "stdout",
     "output_type": "stream",
     "text": [
      "1\thôm_nay\tN\t_\t2\ttmp\n",
      "2\tkhuyến_mãi\tV\t_\t0\troot\n",
      "3\tquần\tN\t_\t2\tdob\n",
      "4\tkaki\tNb\t_\t3\tnmod\n",
      "5\tmềm\tA\t_\t3\tnmod\n",
      "6\têm\tA\t_\t3\tnmod\n",
      "7\tsiêu\tZ\t_\t8\tnmod\n",
      "8\tngầu\tN\t_\t2\tdob\n",
      "\n"
     ]
    }
   ],
   "source": [
    "parser.print_out(\n",
    "    parser.annotate_text(\n",
    "        \"hôm nay khuyến mãi quần kaki mềm êm siêu ngầu\",\n",
    "    )\n",
    ")"
   ]
  },
  {
   "cell_type": "code",
   "execution_count": 26,
   "metadata": {},
   "outputs": [
    {
     "data": {
      "text/plain": [
       "{0: [{'index': 1,\n",
       "   'wordForm': 'hôm_nay',\n",
       "   'posTag': 'N',\n",
       "   'nerLabel': '_',\n",
       "   'head': 2,\n",
       "   'depLabel': 'tmp'},\n",
       "  {'index': 2,\n",
       "   'wordForm': 'khuyến_mãi',\n",
       "   'posTag': 'V',\n",
       "   'nerLabel': '_',\n",
       "   'head': 0,\n",
       "   'depLabel': 'root'},\n",
       "  {'index': 3,\n",
       "   'wordForm': 'quần',\n",
       "   'posTag': 'N',\n",
       "   'nerLabel': '_',\n",
       "   'head': 2,\n",
       "   'depLabel': 'dob'},\n",
       "  {'index': 4,\n",
       "   'wordForm': 'kaki',\n",
       "   'posTag': 'Nb',\n",
       "   'nerLabel': '_',\n",
       "   'head': 3,\n",
       "   'depLabel': 'nmod'},\n",
       "  {'index': 5,\n",
       "   'wordForm': 'mềm',\n",
       "   'posTag': 'A',\n",
       "   'nerLabel': '_',\n",
       "   'head': 3,\n",
       "   'depLabel': 'nmod'},\n",
       "  {'index': 6,\n",
       "   'wordForm': 'êm',\n",
       "   'posTag': 'A',\n",
       "   'nerLabel': '_',\n",
       "   'head': 3,\n",
       "   'depLabel': 'nmod'},\n",
       "  {'index': 7,\n",
       "   'wordForm': 'siêu',\n",
       "   'posTag': 'Z',\n",
       "   'nerLabel': '_',\n",
       "   'head': 8,\n",
       "   'depLabel': 'amod'},\n",
       "  {'index': 8,\n",
       "   'wordForm': 'ngầu',\n",
       "   'posTag': 'A',\n",
       "   'nerLabel': '_',\n",
       "   'head': 6,\n",
       "   'depLabel': 'amod'},\n",
       "  {'index': 9,\n",
       "   'wordForm': '.',\n",
       "   'posTag': 'CH',\n",
       "   'nerLabel': '_',\n",
       "   'head': 2,\n",
       "   'depLabel': 'punct'}]}"
      ]
     },
     "execution_count": 26,
     "metadata": {},
     "output_type": "execute_result"
    }
   ],
   "source": [
    "parse_result = parser.annotate_text(\n",
    "    \"hôm nay khuyến mãi quần kaki mềm êm siêu ngầu.\", \n",
    ")\n",
    "parse_result"
   ]
  },
  {
   "cell_type": "code",
   "execution_count": 27,
   "metadata": {},
   "outputs": [
    {
     "name": "stdout",
     "output_type": "stream",
     "text": [
      "1\thôm_nay\tN\t_\t2\ttmp\n",
      "2\tkhuyến_mãi\tV\t_\t0\troot\n",
      "3\tquần\tN\t_\t2\tdob\n",
      "4\tkaki\tNb\t_\t3\tnmod\n",
      "5\tmềm\tA\t_\t3\tnmod\n",
      "6\têm\tA\t_\t3\tnmod\n",
      "7\tsiêu\tZ\t_\t8\tamod\n",
      "8\tngầu\tA\t_\t6\tamod\n",
      "9\t.\tCH\t_\t2\tpunct\n",
      "\n"
     ]
    }
   ],
   "source": [
    "parser.print_out(parse_result)"
   ]
  },
  {
   "cell_type": "code",
   "execution_count": 63,
   "metadata": {},
   "outputs": [
    {
     "data": {
      "text/plain": [
       "['Xưởng bọc ghế da uy tín chất lượng', 'mẫu theo yêu cầu', 'May']"
      ]
     },
     "execution_count": 63,
     "metadata": {},
     "output_type": "execute_result"
    }
   ],
   "source": [
    "FILTERED_DEP_LABELS = set([\"punct\", \"tmp\"])\n",
    "\n",
    "def parse_noun_phrase(text):\n",
    "    parse_result = parser.annotate_text(text)\n",
    "    \n",
    "    noun_phrases = []\n",
    "    for sent_id, sent_parsing in parse_result.items():\n",
    "        for phrase_parsing in sent_parsing:\n",
    "            pindex = phrase_parsing[\"index\"]\n",
    "            pwordForm = phrase_parsing[\"wordForm\"]\n",
    "            pposTag = phrase_parsing[\"posTag\"]\n",
    "            phead = phrase_parsing[\"head\"]\n",
    "            pdepLabel = phrase_parsing[\"depLabel\"]\n",
    "            \n",
    "            if pposTag.startswith(\"N\"):\n",
    "                cur_noun_phrase = []\n",
    "                candidate_ids = set([pindex])\n",
    "                old_length = len(candidate_ids)\n",
    "                while True:\n",
    "                    for i in range(len(sent_parsing)):\n",
    "                        if sent_parsing[i][\"head\"] in candidate_ids:\n",
    "                            # cur_noun_phrase.append(sent_parsing[i][\"wordForm\"])\n",
    "                            candidate_ids.add(sent_parsing[i][\"index\"])\n",
    "                    if len(candidate_ids) == old_length:\n",
    "                        break\n",
    "                    old_length = len(candidate_ids)\n",
    "                candidate_ids = sorted(list(candidate_ids))\n",
    "                for i in candidate_ids:\n",
    "                    cur_noun_phrase.append(sent_parsing[i - 1])\n",
    "                noun_phrases.append(cur_noun_phrase)\n",
    "    \n",
    "    results = []\n",
    "    for noun_phrase in noun_phrases:\n",
    "        cur_phrase_str = []\n",
    "        for phrase in noun_phrase:\n",
    "            if phrase[\"depLabel\"] in FILTERED_DEP_LABELS:\n",
    "                continue\n",
    "            cur_phrase_str.append(phrase[\"wordForm\"].replace(\"_\", \" \"))\n",
    "        if len(cur_phrase_str) > 0:\n",
    "            results.append(\" \".join(cur_phrase_str))\n",
    "    \n",
    "    results = sorted(results, key=lambda x: len(x), reverse=True)\n",
    "    results = remove_substrings(results)\n",
    "    \n",
    "    return results\n",
    "\n",
    "def remove_substrings(arr):\n",
    "    arr.sort(key=lambda s: len(s), reverse=True)\n",
    "    out = []\n",
    "    for s in arr:\n",
    "        if not any([s in o for o in out]):\n",
    "            out.append(s)\n",
    "    return out\n",
    "\n"
   ]
  },
  {
   "cell_type": "code",
   "execution_count": 64,
   "metadata": {},
   "outputs": [
    {
     "name": "stdout",
     "output_type": "stream",
     "text": [
      "674 µs ± 79.1 µs per loop (mean ± std. dev. of 7 runs, 1,000 loops each)\n"
     ]
    }
   ],
   "source": [
    "%%timeit\n",
    "parse_noun_phrase(\"Xưởng bọc ghế da uy tín chất lượng. May thiết kế và tư vấn mẫu  theo yêu cầu\")"
   ]
  },
  {
   "cell_type": "markdown",
   "metadata": {},
   "source": [
    "- https://github.com/vncorenlp/VnCoreNLP/blob/master/TagsetDescription.md\n",
    "- https://github.com/undertheseanlp/underthesea/wiki/M%C3%B4-t%E1%BA%A3-d%E1%BB%AF-li%E1%BB%87u-b%C3%A0i-to%C3%A1n-Chunking\n",
    "- https://github.com/undertheseanlp/underthesea/wiki/M%C3%B4-t%E1%BA%A3-d%E1%BB%AF-li%E1%BB%87u-b%C3%A0i-to%C3%A1n-POS-Tag\n",
    "- https://viettelgroup.ai/document/part-of-speech-tagging"
   ]
  },
  {
   "cell_type": "code",
   "execution_count": null,
   "metadata": {},
   "outputs": [],
   "source": []
  }
 ],
 "metadata": {
  "kernelspec": {
   "display_name": "peft",
   "language": "python",
   "name": "python3"
  },
  "language_info": {
   "codemirror_mode": {
    "name": "ipython",
    "version": 3
   },
   "file_extension": ".py",
   "mimetype": "text/x-python",
   "name": "python",
   "nbconvert_exporter": "python",
   "pygments_lexer": "ipython3",
   "version": "3.8.17"
  },
  "orig_nbformat": 4
 },
 "nbformat": 4,
 "nbformat_minor": 2
}
